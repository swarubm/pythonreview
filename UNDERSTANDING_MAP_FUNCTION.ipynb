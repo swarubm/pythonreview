{
  "nbformat": 4,
  "nbformat_minor": 0,
  "metadata": {
    "colab": {
      "provenance": [],
      "toc_visible": true,
      "include_colab_link": true
    },
    "kernelspec": {
      "name": "python3",
      "display_name": "Python 3"
    },
    "language_info": {
      "name": "python"
    }
  },
  "cells": [
    {
      "cell_type": "markdown",
      "metadata": {
        "id": "view-in-github",
        "colab_type": "text"
      },
      "source": [
        "<a href=\"https://colab.research.google.com/github/swarubm/pythonreview/blob/main/UNDERSTANDING_MAP_FUNCTION.ipynb\" target=\"_parent\"><img src=\"https://colab.research.google.com/assets/colab-badge.svg\" alt=\"Open In Colab\"/></a>"
      ]
    },
    {
      "cell_type": "markdown",
      "source": [
        "# 1. Convert list of strings to integers"
      ],
      "metadata": {
        "id": "Ci6HGFw_0rLx"
      }
    },
    {
      "cell_type": "code",
      "execution_count": null,
      "metadata": {
        "colab": {
          "base_uri": "https://localhost:8080/"
        },
        "id": "r-ui_8eFrdoE",
        "outputId": "d556e058-d37a-44ad-8743-3ed5b9fbb7a1"
      },
      "outputs": [
        {
          "output_type": "stream",
          "name": "stdout",
          "text": [
            "[1, 2, 3, 4]\n"
          ]
        }
      ],
      "source": [
        "data = ['1', '2', '3', '4']\n",
        "result = list(map(int,data))\n",
        "print(result)"
      ]
    },
    {
      "cell_type": "markdown",
      "source": [
        "# 2. Square all elements in a list"
      ],
      "metadata": {
        "id": "SdI0aaE-2T29"
      }
    },
    {
      "cell_type": "code",
      "source": [
        "nums = [1, 2, 3, 4]\n",
        "squares = list(map(lambda x: x**2, nums))\n",
        "print(squares)\n"
      ],
      "metadata": {
        "colab": {
          "base_uri": "https://localhost:8080/"
        },
        "id": "2Y8YMJyE1DYe",
        "outputId": "4f053158-f9f4-435a-8a15-4652594d078c"
      },
      "execution_count": null,
      "outputs": [
        {
          "output_type": "stream",
          "name": "stdout",
          "text": [
            "[1, 4, 9, 16]\n"
          ]
        }
      ]
    },
    {
      "cell_type": "markdown",
      "source": [
        "# 3. Add 5 to each number in a list"
      ],
      "metadata": {
        "id": "r1yX4Uz22YLP"
      }
    },
    {
      "cell_type": "code",
      "source": [
        "nums = [10, 20, 30]\n",
        "updated = list(map(lambda x: x + 5, nums))\n",
        "print(updated)\n"
      ],
      "metadata": {
        "colab": {
          "base_uri": "https://localhost:8080/"
        },
        "id": "1Z9zVbx12Xkg",
        "outputId": "2170b4ba-7bfa-4a34-b0a2-e3167015678f"
      },
      "execution_count": null,
      "outputs": [
        {
          "output_type": "stream",
          "name": "stdout",
          "text": [
            "[15, 25, 35]\n"
          ]
        }
      ]
    },
    {
      "cell_type": "markdown",
      "source": [
        "# 4. Convert list of floats to integers"
      ],
      "metadata": {
        "id": "7-f0rncs2cWI"
      }
    },
    {
      "cell_type": "code",
      "source": [
        "values = [1.2, 3.4, 5.6]\n",
        "integers = list(map(int, values))\n",
        "print(integers)\n"
      ],
      "metadata": {
        "colab": {
          "base_uri": "https://localhost:8080/"
        },
        "id": "c7Oz5Fa32g18",
        "outputId": "5a49d830-4ad0-4d60-f986-8f5564fec4e8"
      },
      "execution_count": null,
      "outputs": [
        {
          "output_type": "stream",
          "name": "stdout",
          "text": [
            "[1, 3, 5]\n"
          ]
        }
      ]
    },
    {
      "cell_type": "markdown",
      "source": [
        "# 5. Capitalize all words in a list"
      ],
      "metadata": {
        "id": "AxAulzSr2wEt"
      }
    },
    {
      "cell_type": "code",
      "source": [
        "words = ['hello', 'world']\n",
        "capitalized = list(map(str.capitalize, words))\n",
        "print(capitalized)\n"
      ],
      "metadata": {
        "colab": {
          "base_uri": "https://localhost:8080/"
        },
        "id": "F5zH8mCb2vec",
        "outputId": "bd3e086a-51ee-4ac0-977f-169811f7d4e1"
      },
      "execution_count": null,
      "outputs": [
        {
          "output_type": "stream",
          "name": "stdout",
          "text": [
            "['Hello', 'World']\n"
          ]
        }
      ]
    },
    {
      "cell_type": "markdown",
      "source": [
        "# 6. Add elements from two lists"
      ],
      "metadata": {
        "id": "F6X7IMYt71rM"
      }
    },
    {
      "cell_type": "code",
      "source": [
        "a = [1, 2, 3]\n",
        "b = [4, 5, 6]\n",
        "result = list(map(lambda x, y: x + y, a, b))\n",
        "print(result)\n"
      ],
      "metadata": {
        "id": "ZlgbBMdH71D0",
        "outputId": "1028593a-11b6-4129-afcf-f5318115fac5",
        "colab": {
          "base_uri": "https://localhost:8080/"
        }
      },
      "execution_count": 1,
      "outputs": [
        {
          "output_type": "stream",
          "name": "stdout",
          "text": [
            "[5, 7, 9]\n"
          ]
        }
      ]
    },
    {
      "cell_type": "markdown",
      "source": [
        "# 7. Find max from two lists"
      ],
      "metadata": {
        "id": "DjDqELDh7-2C"
      }
    },
    {
      "cell_type": "code",
      "source": [
        "a = [10, 30, 50]\n",
        "b = [20, 25, 60]\n",
        "result = list(map(max, a, b))\n",
        "print(result)\n"
      ],
      "metadata": {
        "id": "51Vc5QaI8C40",
        "outputId": "32cebee0-aee1-40b8-bccf-e7756519c65e",
        "colab": {
          "base_uri": "https://localhost:8080/"
        }
      },
      "execution_count": 3,
      "outputs": [
        {
          "output_type": "stream",
          "name": "stdout",
          "text": [
            "[20, 30, 60]\n"
          ]
        }
      ]
    },
    {
      "cell_type": "markdown",
      "source": [
        "# 8 Convert list of strings to uppercase without using loops"
      ],
      "metadata": {
        "id": "tqukOwRj8HLg"
      }
    },
    {
      "cell_type": "code",
      "source": [
        "names = ['sardar', 'swaroop', 'python']\n",
        "uppercased = list(map(str.upper, names))\n",
        "print(uppercased)\n"
      ],
      "metadata": {
        "id": "kQPn0A398NCy",
        "outputId": "69b52e92-1706-4665-f0c2-a2fbf3192d6e",
        "colab": {
          "base_uri": "https://localhost:8080/"
        }
      },
      "execution_count": 4,
      "outputs": [
        {
          "output_type": "stream",
          "name": "stdout",
          "text": [
            "['SARDAR', 'SWAROOP', 'PYTHON']\n"
          ]
        }
      ]
    },
    {
      "cell_type": "markdown",
      "source": [
        "# 9. Check if numbers are even"
      ],
      "metadata": {
        "id": "gJfGDgSn8Sbm"
      }
    },
    {
      "cell_type": "code",
      "source": [
        "nums = [1, 2, 3, 4, 5]\n",
        "even_check = list(map(lambda x: x % 2 == 0, nums))\n",
        "print(even_check)\n"
      ],
      "metadata": {
        "id": "K10-XP8p8QS8",
        "outputId": "d6616365-e75e-4f47-e89c-2df062479ab2",
        "colab": {
          "base_uri": "https://localhost:8080/"
        }
      },
      "execution_count": 5,
      "outputs": [
        {
          "output_type": "stream",
          "name": "stdout",
          "text": [
            "[False, True, False, True, False]\n"
          ]
        }
      ]
    },
    {
      "cell_type": "markdown",
      "source": [
        "10. Filter out only even numbers using map() + filter()"
      ],
      "metadata": {
        "id": "C8JGNTK-8WuQ"
      }
    },
    {
      "cell_type": "code",
      "source": [
        "nums = [1, 2, 3, 4, 5, 6]\n",
        "is_even = list(map(lambda x: x % 2 == 0, nums))\n",
        "evens = [num for num, check in zip(nums, is_even) if check]\n",
        "print(evens)"
      ],
      "metadata": {
        "id": "3710eDik8WXI",
        "outputId": "ba601963-6456-4f60-b469-1f848a714a2e",
        "colab": {
          "base_uri": "https://localhost:8080/"
        }
      },
      "execution_count": 6,
      "outputs": [
        {
          "output_type": "stream",
          "name": "stdout",
          "text": [
            "[2, 4, 6]\n"
          ]
        }
      ]
    }
  ]
}