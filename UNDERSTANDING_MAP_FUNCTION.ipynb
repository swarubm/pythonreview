{
  "nbformat": 4,
  "nbformat_minor": 0,
  "metadata": {
    "colab": {
      "provenance": [],
      "toc_visible": true,
      "authorship_tag": "ABX9TyPJHC4RiA5LfxuFhJj7r25e",
      "include_colab_link": true
    },
    "kernelspec": {
      "name": "python3",
      "display_name": "Python 3"
    },
    "language_info": {
      "name": "python"
    }
  },
  "cells": [
    {
      "cell_type": "markdown",
      "metadata": {
        "id": "view-in-github",
        "colab_type": "text"
      },
      "source": [
        "<a href=\"https://colab.research.google.com/github/swarubm/pythonreview/blob/main/UNDERSTANDING_MAP_FUNCTION.ipynb\" target=\"_parent\"><img src=\"https://colab.research.google.com/assets/colab-badge.svg\" alt=\"Open In Colab\"/></a>"
      ]
    },
    {
      "cell_type": "markdown",
      "source": [
        "# 1. Convert list of strings to integers"
      ],
      "metadata": {
        "id": "Ci6HGFw_0rLx"
      }
    },
    {
      "cell_type": "code",
      "execution_count": 5,
      "metadata": {
        "colab": {
          "base_uri": "https://localhost:8080/"
        },
        "id": "r-ui_8eFrdoE",
        "outputId": "d556e058-d37a-44ad-8743-3ed5b9fbb7a1"
      },
      "outputs": [
        {
          "output_type": "stream",
          "name": "stdout",
          "text": [
            "[1, 2, 3, 4]\n"
          ]
        }
      ],
      "source": [
        "data = ['1', '2', '3', '4']\n",
        "result = list(map(int,data))\n",
        "print(result)"
      ]
    },
    {
      "cell_type": "markdown",
      "source": [
        "# 2. Square all elements in a list"
      ],
      "metadata": {
        "id": "SdI0aaE-2T29"
      }
    },
    {
      "cell_type": "code",
      "source": [
        "nums = [1, 2, 3, 4]\n",
        "squares = list(map(lambda x: x**2, nums))\n",
        "print(squares)\n"
      ],
      "metadata": {
        "colab": {
          "base_uri": "https://localhost:8080/"
        },
        "id": "2Y8YMJyE1DYe",
        "outputId": "4f053158-f9f4-435a-8a15-4652594d078c"
      },
      "execution_count": 10,
      "outputs": [
        {
          "output_type": "stream",
          "name": "stdout",
          "text": [
            "[1, 4, 9, 16]\n"
          ]
        }
      ]
    },
    {
      "cell_type": "markdown",
      "source": [
        "# 3. Add 5 to each number in a list"
      ],
      "metadata": {
        "id": "r1yX4Uz22YLP"
      }
    },
    {
      "cell_type": "code",
      "source": [
        "nums = [10, 20, 30]\n",
        "updated = list(map(lambda x: x + 5, nums))\n",
        "print(updated)\n"
      ],
      "metadata": {
        "colab": {
          "base_uri": "https://localhost:8080/"
        },
        "id": "1Z9zVbx12Xkg",
        "outputId": "2170b4ba-7bfa-4a34-b0a2-e3167015678f"
      },
      "execution_count": 11,
      "outputs": [
        {
          "output_type": "stream",
          "name": "stdout",
          "text": [
            "[15, 25, 35]\n"
          ]
        }
      ]
    },
    {
      "cell_type": "markdown",
      "source": [
        "# 4. Convert list of floats to integers"
      ],
      "metadata": {
        "id": "7-f0rncs2cWI"
      }
    },
    {
      "cell_type": "code",
      "source": [
        "values = [1.2, 3.4, 5.6]\n",
        "integers = list(map(int, values))\n",
        "print(integers)\n"
      ],
      "metadata": {
        "colab": {
          "base_uri": "https://localhost:8080/"
        },
        "id": "c7Oz5Fa32g18",
        "outputId": "5a49d830-4ad0-4d60-f986-8f5564fec4e8"
      },
      "execution_count": 12,
      "outputs": [
        {
          "output_type": "stream",
          "name": "stdout",
          "text": [
            "[1, 3, 5]\n"
          ]
        }
      ]
    },
    {
      "cell_type": "markdown",
      "source": [
        "# 5. Capitalize all words in a list"
      ],
      "metadata": {
        "id": "AxAulzSr2wEt"
      }
    },
    {
      "cell_type": "code",
      "source": [
        "words = ['hello', 'world']\n",
        "capitalized = list(map(str.capitalize, words))\n",
        "print(capitalized)\n"
      ],
      "metadata": {
        "colab": {
          "base_uri": "https://localhost:8080/"
        },
        "id": "F5zH8mCb2vec",
        "outputId": "bd3e086a-51ee-4ac0-977f-169811f7d4e1"
      },
      "execution_count": 13,
      "outputs": [
        {
          "output_type": "stream",
          "name": "stdout",
          "text": [
            "['Hello', 'World']\n"
          ]
        }
      ]
    }
  ]
}