{
  "cells": [
    {
      "cell_type": "markdown",
      "metadata": {
        "id": "view-in-github",
        "colab_type": "text"
      },
      "source": [
        "<a href=\"https://colab.research.google.com/github/swarubm/pythonreview/blob/main/NUMPY_OPERATIONS%20.ipynb\" target=\"_parent\"><img src=\"https://colab.research.google.com/assets/colab-badge.svg\" alt=\"Open In Colab\"/></a>"
      ]
    },
    {
      "cell_type": "code",
      "source": [
        "import numpy as np"
      ],
      "metadata": {
        "id": "ceVk2ddcy5OC"
      },
      "execution_count": 3,
      "outputs": []
    },
    {
      "cell_type": "code",
      "source": [
        "arr = np.array([1,2,3,4,5])\n",
        "arr"
      ],
      "metadata": {
        "colab": {
          "base_uri": "https://localhost:8080/"
        },
        "id": "i5o0H-FHy_rT",
        "outputId": "58c1b82c-f932-44b9-92af-1a1e987a2a34"
      },
      "execution_count": 4,
      "outputs": [
        {
          "output_type": "execute_result",
          "data": {
            "text/plain": [
              "array([1, 2, 3, 4, 5])"
            ]
          },
          "metadata": {},
          "execution_count": 4
        }
      ]
    },
    {
      "cell_type": "markdown",
      "source": [
        "# DIMENSION"
      ],
      "metadata": {
        "id": "u6meb5AP2enH"
      }
    },
    {
      "cell_type": "code",
      "source": [
        " arr.ndim"
      ],
      "metadata": {
        "colab": {
          "base_uri": "https://localhost:8080/"
        },
        "id": "gDVP-78s1Jql",
        "outputId": "d6b7d6c3-ff84-4ee9-8250-96d55360a6b5"
      },
      "execution_count": 5,
      "outputs": [
        {
          "output_type": "execute_result",
          "data": {
            "text/plain": [
              "1"
            ]
          },
          "metadata": {},
          "execution_count": 5
        }
      ]
    },
    {
      "cell_type": "markdown",
      "source": [
        "# TO FIND DIMENSION"
      ],
      "metadata": {
        "id": "6bby6XQi2j7p"
      }
    },
    {
      "cell_type": "code",
      "source": [
        "a = ([[1,2,3],[4,5,6]])\n",
        "a = np.array(a)\n",
        "a.ndim\n"
      ],
      "metadata": {
        "colab": {
          "base_uri": "https://localhost:8080/"
        },
        "id": "OlCiQ30H1TIB",
        "outputId": "dbde37a0-f0e5-449c-95b9-4d9281f2beb8"
      },
      "execution_count": 6,
      "outputs": [
        {
          "output_type": "execute_result",
          "data": {
            "text/plain": [
              "2"
            ]
          },
          "metadata": {},
          "execution_count": 6
        }
      ]
    },
    {
      "cell_type": "markdown",
      "source": [
        "# TO FIND SHAPE OF AN ARRAY"
      ],
      "metadata": {
        "id": "dSMAR4oW2pMl"
      }
    },
    {
      "cell_type": "code",
      "source": [
        "a = ([[1,2,3],[4,5,6]])\n",
        "a = np.array(a)\n",
        "a.shape"
      ],
      "metadata": {
        "colab": {
          "base_uri": "https://localhost:8080/"
        },
        "id": "8hm2k6Fu2B-G",
        "outputId": "c7e63ed9-eb53-41f6-9030-9252607ff97a"
      },
      "execution_count": 7,
      "outputs": [
        {
          "output_type": "execute_result",
          "data": {
            "text/plain": [
              "(2, 3)"
            ]
          },
          "metadata": {},
          "execution_count": 7
        }
      ]
    },
    {
      "cell_type": "code",
      "source": [
        "a = ([[[[[[[                  ]]]]]]])\n",
        "a = np.array(a)\n",
        "a.ndim\n",
        "a.shape"
      ],
      "metadata": {
        "colab": {
          "base_uri": "https://localhost:8080/"
        },
        "id": "bAKbx9vX208L",
        "outputId": "1509e3cd-fbe7-471d-f057-34936abafff3"
      },
      "execution_count": 8,
      "outputs": [
        {
          "output_type": "execute_result",
          "data": {
            "text/plain": [
              "(1, 1, 1, 1, 1, 1, 0)"
            ]
          },
          "metadata": {},
          "execution_count": 8
        }
      ]
    },
    {
      "cell_type": "markdown",
      "source": [
        "# arange"
      ],
      "metadata": {
        "id": "yAwMAjxj3cib"
      }
    },
    {
      "cell_type": "code",
      "source": [
        "range = np.arange(10)\n",
        "range"
      ],
      "metadata": {
        "colab": {
          "base_uri": "https://localhost:8080/"
        },
        "id": "mSmIcUpv3b4D",
        "outputId": "6925d87e-03ca-49a8-9c30-a651ba8acce0"
      },
      "execution_count": 9,
      "outputs": [
        {
          "output_type": "execute_result",
          "data": {
            "text/plain": [
              "array([0, 1, 2, 3, 4, 5, 6, 7, 8, 9])"
            ]
          },
          "metadata": {},
          "execution_count": 9
        }
      ]
    },
    {
      "cell_type": "code",
      "source": [
        "range = np.arange(1,10,2)        #(start,stop,step)\n",
        "range                             #start inclusive and stop exvlusive"
      ],
      "metadata": {
        "colab": {
          "base_uri": "https://localhost:8080/"
        },
        "id": "TW3OL3rJ3568",
        "outputId": "e8aa6075-684c-4437-c9f1-afcd997ca4b7"
      },
      "execution_count": 10,
      "outputs": [
        {
          "output_type": "execute_result",
          "data": {
            "text/plain": [
              "array([1, 3, 5, 7, 9])"
            ]
          },
          "metadata": {},
          "execution_count": 10
        }
      ]
    },
    {
      "cell_type": "markdown",
      "source": [
        "# linspace    "
      ],
      "metadata": {
        "id": "IevuqzwU48NK"
      }
    },
    {
      "cell_type": "code",
      "source": [
        "arr = np.linspace(1,10,5)  #(start,stop,step)\n",
        "arr                        #from 1 to 10 it divides that range to 5 equal parts"
      ],
      "metadata": {
        "colab": {
          "base_uri": "https://localhost:8080/"
        },
        "id": "XwqMydrm4m0H",
        "outputId": "a3e7fa2b-4e08-473a-be32-fd270f308ff4"
      },
      "execution_count": 11,
      "outputs": [
        {
          "output_type": "execute_result",
          "data": {
            "text/plain": [
              "array([ 1.  ,  3.25,  5.5 ,  7.75, 10.  ])"
            ]
          },
          "metadata": {},
          "execution_count": 11
        }
      ]
    },
    {
      "cell_type": "markdown",
      "source": [
        "# Logspace"
      ],
      "metadata": {
        "id": "Nwap1tNW6G6B"
      }
    },
    {
      "cell_type": "code",
      "source": [
        "arr = np.logspace(1,4,3)   #(start,stop,step)\n",
        "arr                        #10power1  to   10power4      how evenly interval values we wanted 10 316 1000  are 3 intervals"
      ],
      "metadata": {
        "colab": {
          "base_uri": "https://localhost:8080/"
        },
        "id": "hPyaRTSh54qu",
        "outputId": "6a92c5df-d6f7-4656-e7a4-dae464615a67"
      },
      "execution_count": 12,
      "outputs": [
        {
          "output_type": "execute_result",
          "data": {
            "text/plain": [
              "array([   10.        ,   316.22776602, 10000.        ])"
            ]
          },
          "metadata": {},
          "execution_count": 12
        }
      ]
    },
    {
      "cell_type": "markdown",
      "source": [
        "# zeros"
      ],
      "metadata": {
        "id": "fjLOIku-8OUw"
      }
    },
    {
      "cell_type": "code",
      "source": [
        "arr = np.zeros(5) #CREATE ARRAY WITH THAT MUCH OF ZEROES\n",
        "arr"
      ],
      "metadata": {
        "colab": {
          "base_uri": "https://localhost:8080/"
        },
        "id": "1E0jTeFJ7_zR",
        "outputId": "bdecf13d-3cc7-4492-e471-321f8aa8964d"
      },
      "execution_count": 13,
      "outputs": [
        {
          "output_type": "execute_result",
          "data": {
            "text/plain": [
              "array([0., 0., 0., 0., 0.])"
            ]
          },
          "metadata": {},
          "execution_count": 13
        }
      ]
    },
    {
      "cell_type": "code",
      "source": [
        "arr = np.zeros ([2,4,5]) #2=no of block\n",
        "arr                      #4=no of rows\n",
        "                        #5=no o colms"
      ],
      "metadata": {
        "colab": {
          "base_uri": "https://localhost:8080/"
        },
        "id": "3gzsfziQ8X0U",
        "outputId": "c6c8672a-4a91-49e3-c865-a90138e2e14e"
      },
      "execution_count": 14,
      "outputs": [
        {
          "output_type": "execute_result",
          "data": {
            "text/plain": [
              "array([[[0., 0., 0., 0., 0.],\n",
              "        [0., 0., 0., 0., 0.],\n",
              "        [0., 0., 0., 0., 0.],\n",
              "        [0., 0., 0., 0., 0.]],\n",
              "\n",
              "       [[0., 0., 0., 0., 0.],\n",
              "        [0., 0., 0., 0., 0.],\n",
              "        [0., 0., 0., 0., 0.],\n",
              "        [0., 0., 0., 0., 0.]]])"
            ]
          },
          "metadata": {},
          "execution_count": 14
        }
      ]
    },
    {
      "cell_type": "code",
      "source": [
        "arr = np.ones([4,2])   #row and cols\n",
        "arr"
      ],
      "metadata": {
        "colab": {
          "base_uri": "https://localhost:8080/"
        },
        "id": "Vk78MFd29gxR",
        "outputId": "202fe936-fd85-4be1-e2dc-4df3bb25338d"
      },
      "execution_count": 15,
      "outputs": [
        {
          "output_type": "execute_result",
          "data": {
            "text/plain": [
              "array([[1., 1.],\n",
              "       [1., 1.],\n",
              "       [1., 1.],\n",
              "       [1., 1.]])"
            ]
          },
          "metadata": {},
          "execution_count": 15
        }
      ]
    },
    {
      "cell_type": "markdown",
      "source": [
        "# Full"
      ],
      "metadata": {
        "id": "4S1j4oQDCMYI"
      }
    },
    {
      "cell_type": "code",
      "source": [
        "arr = np.full([2,4],7)     #([row,col],value point)\n",
        "arr"
      ],
      "metadata": {
        "colab": {
          "base_uri": "https://localhost:8080/"
        },
        "id": "NDVqEd7W95Gu",
        "outputId": "0541e6d8-0183-4af4-cb04-ec5e2c679ca4"
      },
      "execution_count": 16,
      "outputs": [
        {
          "output_type": "execute_result",
          "data": {
            "text/plain": [
              "array([[7, 7, 7, 7],\n",
              "       [7, 7, 7, 7]])"
            ]
          },
          "metadata": {},
          "execution_count": 16
        }
      ]
    },
    {
      "cell_type": "markdown",
      "source": [
        "# empty"
      ],
      "metadata": {
        "id": "0LaLNaR5CfG0"
      }
    },
    {
      "cell_type": "code",
      "source": [
        "arr = np.empty([2,3])\n",
        "arr"
      ],
      "metadata": {
        "colab": {
          "base_uri": "https://localhost:8080/"
        },
        "id": "ujU4l38aCZGo",
        "outputId": "909217f4-1375-418c-c7b8-0c62588991ec"
      },
      "execution_count": 17,
      "outputs": [
        {
          "output_type": "execute_result",
          "data": {
            "text/plain": [
              "array([[4.9e-324, 9.9e-324, 1.5e-323],\n",
              "       [2.0e-323, 2.5e-323, 3.0e-323]])"
            ]
          },
          "metadata": {},
          "execution_count": 17
        }
      ]
    },
    {
      "cell_type": "markdown",
      "source": [
        "# random.rand()"
      ],
      "metadata": {
        "id": "WdOvDzBxDoZw"
      }
    },
    {
      "cell_type": "code",
      "source": [
        "arr = np.random.rand(2,4)   #it gives random float points\n",
        "arr                          #pass function without []  not list"
      ],
      "metadata": {
        "colab": {
          "base_uri": "https://localhost:8080/"
        },
        "id": "2beaGkcBDtzJ",
        "outputId": "05479934-7ce8-40fc-cd42-149ee79b8098"
      },
      "execution_count": 18,
      "outputs": [
        {
          "output_type": "execute_result",
          "data": {
            "text/plain": [
              "array([[0.12713875, 0.23222222, 0.11848841, 0.90404322],\n",
              "       [0.99166225, 0.01969889, 0.70769783, 0.73790247]])"
            ]
          },
          "metadata": {},
          "execution_count": 18
        }
      ]
    },
    {
      "cell_type": "code",
      "source": [
        "np.random.randn(2,3)          #random floats from normal or gauss distrbtn\n",
        "arr                            #n"
      ],
      "metadata": {
        "colab": {
          "base_uri": "https://localhost:8080/"
        },
        "id": "AqOgaBiJEK-d",
        "outputId": "acacf3f5-a843-4aca-ccc5-ccbdbf2edced"
      },
      "execution_count": 19,
      "outputs": [
        {
          "output_type": "execute_result",
          "data": {
            "text/plain": [
              "array([[0.12713875, 0.23222222, 0.11848841, 0.90404322],\n",
              "       [0.99166225, 0.01969889, 0.70769783, 0.73790247]])"
            ]
          },
          "metadata": {},
          "execution_count": 19
        }
      ]
    },
    {
      "cell_type": "code",
      "source": [
        "arr = np.random.randint(10,100)    #(start,stop) range for random int\n",
        "arr"
      ],
      "metadata": {
        "colab": {
          "base_uri": "https://localhost:8080/"
        },
        "id": "QtwPYERqFJ7p",
        "outputId": "86402070-386c-4d88-c720-99a32b6b5cab"
      },
      "execution_count": 20,
      "outputs": [
        {
          "output_type": "execute_result",
          "data": {
            "text/plain": [
              "78"
            ]
          },
          "metadata": {},
          "execution_count": 20
        }
      ]
    },
    {
      "cell_type": "code",
      "source": [
        "arr = np.random.randint(10,100,size = (2,3))  #adding size to get ranged numbers\n",
        "arr"
      ],
      "metadata": {
        "colab": {
          "base_uri": "https://localhost:8080/"
        },
        "id": "lmAaXQceFpAL",
        "outputId": "1cc77179-9e54-4269-8bff-a61e1b9203df"
      },
      "execution_count": 21,
      "outputs": [
        {
          "output_type": "execute_result",
          "data": {
            "text/plain": [
              "array([[39, 77, 26],\n",
              "       [67, 80, 50]])"
            ]
          },
          "metadata": {},
          "execution_count": 21
        }
      ]
    },
    {
      "cell_type": "markdown",
      "source": [
        "# NUMPY DATA TYPES AND TYPE CASTING"
      ],
      "metadata": {
        "id": "nZv8pAJIGU8t"
      }
    },
    {
      "cell_type": "code",
      "source": [
        "arr = np.array([1,2,3.1,4,5])\n",
        "arr"
      ],
      "metadata": {
        "colab": {
          "base_uri": "https://localhost:8080/"
        },
        "id": "JEKRQqFtGLNP",
        "outputId": "667ec3ad-36c2-403b-be59-19bc5f0c0a4e"
      },
      "execution_count": 22,
      "outputs": [
        {
          "output_type": "execute_result",
          "data": {
            "text/plain": [
              "array([1. , 2. , 3.1, 4. , 5. ])"
            ]
          },
          "metadata": {},
          "execution_count": 22
        }
      ]
    },
    {
      "cell_type": "code",
      "source": [
        "print(type(arr))"
      ],
      "metadata": {
        "colab": {
          "base_uri": "https://localhost:8080/"
        },
        "id": "x64hgv7ZHCw_",
        "outputId": "e650e632-e0e7-4e83-a51a-1aab7601d0f2"
      },
      "execution_count": 23,
      "outputs": [
        {
          "output_type": "stream",
          "name": "stdout",
          "text": [
            "<class 'numpy.ndarray'>\n"
          ]
        }
      ]
    },
    {
      "cell_type": "code",
      "source": [
        "lst = [\"string\",1,2,3.1,4]\n",
        "arr = np.array(lst)\n",
        "arr"
      ],
      "metadata": {
        "colab": {
          "base_uri": "https://localhost:8080/"
        },
        "id": "OLvxqTLAHLsl",
        "outputId": "933e007c-81a6-4d38-94c9-52df0dcb93f0"
      },
      "execution_count": 24,
      "outputs": [
        {
          "output_type": "execute_result",
          "data": {
            "text/plain": [
              "array(['string', '1', '2', '3.1', '4'], dtype='<U32')"
            ]
          },
          "metadata": {},
          "execution_count": 24
        }
      ]
    },
    {
      "cell_type": "code",
      "source": [
        "arr.dtype"
      ],
      "metadata": {
        "colab": {
          "base_uri": "https://localhost:8080/"
        },
        "id": "mpeI2hMkWFyl",
        "outputId": "428d840f-a656-4e21-bf9b-712f3d4cd4e1"
      },
      "execution_count": 25,
      "outputs": [
        {
          "output_type": "execute_result",
          "data": {
            "text/plain": [
              "dtype('<U32')"
            ]
          },
          "metadata": {},
          "execution_count": 25
        }
      ]
    },
    {
      "cell_type": "code",
      "source": [
        "arr = np.array([1,2,3,4],dtype = np.int64)\n",
        "arr"
      ],
      "metadata": {
        "colab": {
          "base_uri": "https://localhost:8080/"
        },
        "id": "kGAy7Re5WOAL",
        "outputId": "bf1d3b67-f618-4fa7-f3a1-029d3f32629d"
      },
      "execution_count": 26,
      "outputs": [
        {
          "output_type": "execute_result",
          "data": {
            "text/plain": [
              "array([1, 2, 3, 4])"
            ]
          },
          "metadata": {},
          "execution_count": 26
        }
      ]
    },
    {
      "cell_type": "markdown",
      "source": [
        "# TYPECASTING"
      ],
      "metadata": {
        "id": "OL5T3d69W7SR"
      }
    },
    {
      "cell_type": "code",
      "source": [
        "arr = np.array([1,2,3])\n",
        "arr.dtype"
      ],
      "metadata": {
        "colab": {
          "base_uri": "https://localhost:8080/"
        },
        "id": "cY8uhipEXADl",
        "outputId": "2709c784-c942-4599-bffa-5b31476aef9d"
      },
      "execution_count": 27,
      "outputs": [
        {
          "output_type": "execute_result",
          "data": {
            "text/plain": [
              "dtype('int64')"
            ]
          },
          "metadata": {},
          "execution_count": 27
        }
      ]
    },
    {
      "cell_type": "code",
      "source": [
        "new_arr = arr.astype(np.float64)\n",
        "new_arr"
      ],
      "metadata": {
        "colab": {
          "base_uri": "https://localhost:8080/"
        },
        "id": "ZGQv8vGdXY0z",
        "outputId": "8ef0ab00-2374-4307-e3d4-8ca24ff0c5cf"
      },
      "execution_count": 28,
      "outputs": [
        {
          "output_type": "execute_result",
          "data": {
            "text/plain": [
              "array([1., 2., 3.])"
            ]
          },
          "metadata": {},
          "execution_count": 28
        }
      ]
    },
    {
      "cell_type": "code",
      "source": [
        "new_arr.dtype"
      ],
      "metadata": {
        "colab": {
          "base_uri": "https://localhost:8080/"
        },
        "id": "ggGVqLGlX6PJ",
        "outputId": "e3184bfe-7ecf-461d-e894-172381d2cc40"
      },
      "execution_count": 29,
      "outputs": [
        {
          "output_type": "execute_result",
          "data": {
            "text/plain": [
              "dtype('float64')"
            ]
          },
          "metadata": {},
          "execution_count": 29
        }
      ]
    },
    {
      "cell_type": "code",
      "source": [
        "new_arr2 = new_arr.astype(np.int64)\n",
        "new_arr2"
      ],
      "metadata": {
        "colab": {
          "base_uri": "https://localhost:8080/"
        },
        "id": "bgMjt-CbYH04",
        "outputId": "8f3f05cc-0911-4e89-b120-aa746c13e0d5"
      },
      "execution_count": 30,
      "outputs": [
        {
          "output_type": "execute_result",
          "data": {
            "text/plain": [
              "array([1, 2, 3])"
            ]
          },
          "metadata": {},
          "execution_count": 30
        }
      ]
    },
    {
      "cell_type": "markdown",
      "source": [
        "#Typecasting error"
      ],
      "metadata": {
        "id": "UaDvLWfTZtXT"
      }
    },
    {
      "cell_type": "code",
      "source": [
        "arr = np.array([\"1\",\"2\",\"hello\"])      #we cant convert str to int\n",
        "arr2 = arr.astype(np.int64)\n",
        "arr2"
      ],
      "metadata": {
        "colab": {
          "base_uri": "https://localhost:8080/",
          "height": 182
        },
        "id": "cjiLNKXoZyOf",
        "outputId": "8900efe8-2189-4678-8814-993f5278b358"
      },
      "execution_count": 31,
      "outputs": [
        {
          "output_type": "error",
          "ename": "ValueError",
          "evalue": "invalid literal for int() with base 10: np.str_('hello')",
          "traceback": [
            "\u001b[0;31m---------------------------------------------------------------------------\u001b[0m",
            "\u001b[0;31mValueError\u001b[0m                                Traceback (most recent call last)",
            "\u001b[0;32m/tmp/ipython-input-424034710.py\u001b[0m in \u001b[0;36m<cell line: 0>\u001b[0;34m()\u001b[0m\n\u001b[1;32m      1\u001b[0m \u001b[0marr\u001b[0m \u001b[0;34m=\u001b[0m \u001b[0mnp\u001b[0m\u001b[0;34m.\u001b[0m\u001b[0marray\u001b[0m\u001b[0;34m(\u001b[0m\u001b[0;34m[\u001b[0m\u001b[0;34m\"1\"\u001b[0m\u001b[0;34m,\u001b[0m\u001b[0;34m\"2\"\u001b[0m\u001b[0;34m,\u001b[0m\u001b[0;34m\"hello\"\u001b[0m\u001b[0;34m]\u001b[0m\u001b[0;34m)\u001b[0m      \u001b[0;31m#we cant convert str to int\u001b[0m\u001b[0;34m\u001b[0m\u001b[0;34m\u001b[0m\u001b[0m\n\u001b[0;32m----> 2\u001b[0;31m \u001b[0marr2\u001b[0m \u001b[0;34m=\u001b[0m \u001b[0marr\u001b[0m\u001b[0;34m.\u001b[0m\u001b[0mastype\u001b[0m\u001b[0;34m(\u001b[0m\u001b[0mnp\u001b[0m\u001b[0;34m.\u001b[0m\u001b[0mint64\u001b[0m\u001b[0;34m)\u001b[0m\u001b[0;34m\u001b[0m\u001b[0;34m\u001b[0m\u001b[0m\n\u001b[0m\u001b[1;32m      3\u001b[0m \u001b[0marr2\u001b[0m\u001b[0;34m\u001b[0m\u001b[0;34m\u001b[0m\u001b[0m\n",
            "\u001b[0;31mValueError\u001b[0m: invalid literal for int() with base 10: np.str_('hello')"
          ]
        }
      ]
    },
    {
      "cell_type": "code",
      "source": [
        "arr = np.array([[1,2,3],\n",
        "                [4,5,6]])\n",
        "arr"
      ],
      "metadata": {
        "colab": {
          "base_uri": "https://localhost:8080/"
        },
        "id": "eN0OnfHSaT6q",
        "outputId": "e6766299-a92d-4be0-fc53-e9c77503fa80"
      },
      "execution_count": 32,
      "outputs": [
        {
          "output_type": "execute_result",
          "data": {
            "text/plain": [
              "array([[1, 2, 3],\n",
              "       [4, 5, 6]])"
            ]
          },
          "metadata": {},
          "execution_count": 32
        }
      ]
    },
    {
      "cell_type": "code",
      "source": [
        "arr.shape"
      ],
      "metadata": {
        "colab": {
          "base_uri": "https://localhost:8080/"
        },
        "id": "d-76Az3za08x",
        "outputId": "b2b1cedb-f8de-48ee-bfaa-ac1c5e162df9"
      },
      "execution_count": 33,
      "outputs": [
        {
          "output_type": "execute_result",
          "data": {
            "text/plain": [
              "(2, 3)"
            ]
          },
          "metadata": {},
          "execution_count": 33
        }
      ]
    },
    {
      "cell_type": "code",
      "source": [
        "arr.ndim"
      ],
      "metadata": {
        "colab": {
          "base_uri": "https://localhost:8080/"
        },
        "id": "obVeaPWea2x2",
        "outputId": "753c741f-8ee9-40c6-8f06-241b649642ff"
      },
      "execution_count": 34,
      "outputs": [
        {
          "output_type": "execute_result",
          "data": {
            "text/plain": [
              "2"
            ]
          },
          "metadata": {},
          "execution_count": 34
        }
      ]
    },
    {
      "cell_type": "code",
      "source": [
        "arr.size   #total no of elements in the array"
      ],
      "metadata": {
        "colab": {
          "base_uri": "https://localhost:8080/"
        },
        "id": "m9A0fyUpa5bg",
        "outputId": "bb723805-41bd-4810-fa0a-ffdc30bfb20f"
      },
      "execution_count": 35,
      "outputs": [
        {
          "output_type": "execute_result",
          "data": {
            "text/plain": [
              "6"
            ]
          },
          "metadata": {},
          "execution_count": 35
        }
      ]
    },
    {
      "cell_type": "code",
      "source": [
        "arr.itemsize           #8bit of storage"
      ],
      "metadata": {
        "colab": {
          "base_uri": "https://localhost:8080/"
        },
        "id": "VeuRtGaBa_ED",
        "outputId": "299db339-ccb3-455c-d0c2-d36ce80bf517"
      },
      "execution_count": 36,
      "outputs": [
        {
          "output_type": "execute_result",
          "data": {
            "text/plain": [
              "8"
            ]
          },
          "metadata": {},
          "execution_count": 36
        }
      ]
    },
    {
      "cell_type": "markdown",
      "source": [
        "# RESHAPE"
      ],
      "metadata": {
        "id": "WsT0CXWHbRWX"
      }
    },
    {
      "cell_type": "code",
      "source": [
        "arr = np.array([1,2,3,4,5,6])\n",
        "reshaped = arr.reshape(2,3)         #convert it to 2 row and 3 cols\n",
        "print(reshaped)"
      ],
      "metadata": {
        "colab": {
          "base_uri": "https://localhost:8080/"
        },
        "id": "DOd0sAXRbPE0",
        "outputId": "f0ee027c-7558-415c-ae19-7f6142a2baba"
      },
      "execution_count": 37,
      "outputs": [
        {
          "output_type": "stream",
          "name": "stdout",
          "text": [
            "[[1 2 3]\n",
            " [4 5 6]]\n"
          ]
        }
      ]
    },
    {
      "cell_type": "code",
      "source": [
        "reshape2 = reshaped.reshape(3,2)\n",
        "reshape2"
      ],
      "metadata": {
        "colab": {
          "base_uri": "https://localhost:8080/"
        },
        "id": "kbDsBADzb51W",
        "outputId": "756c55ac-f6e2-491d-a64a-2f6fbedf8faf"
      },
      "execution_count": 38,
      "outputs": [
        {
          "output_type": "execute_result",
          "data": {
            "text/plain": [
              "array([[1, 2],\n",
              "       [3, 4],\n",
              "       [5, 6]])"
            ]
          },
          "metadata": {},
          "execution_count": 38
        }
      ]
    },
    {
      "cell_type": "markdown",
      "source": [
        "# Ravel"
      ],
      "metadata": {
        "id": "pWGIeXbHceK9"
      }
    },
    {
      "cell_type": "code",
      "source": [
        "ravel = reshape2.ravel()    #convert to 1d array\n",
        "ravel"
      ],
      "metadata": {
        "colab": {
          "base_uri": "https://localhost:8080/"
        },
        "id": "PPl8joXvciaf",
        "outputId": "912c349a-126a-418d-c523-7375dde4a914"
      },
      "execution_count": 39,
      "outputs": [
        {
          "output_type": "execute_result",
          "data": {
            "text/plain": [
              "array([1, 2, 3, 4, 5, 6])"
            ]
          },
          "metadata": {},
          "execution_count": 39
        }
      ]
    },
    {
      "cell_type": "code",
      "source": [
        "ravel[0] = 100\n",
        "print(ravel)\n",
        "print(reshape2)"
      ],
      "metadata": {
        "colab": {
          "base_uri": "https://localhost:8080/"
        },
        "id": "bBZQbAc_cpWT",
        "outputId": "e7e2f41c-505b-45fc-bc09-f606d62df54a"
      },
      "execution_count": 40,
      "outputs": [
        {
          "output_type": "stream",
          "name": "stdout",
          "text": [
            "[100   2   3   4   5   6]\n",
            "[[100   2]\n",
            " [  3   4]\n",
            " [  5   6]]\n"
          ]
        }
      ]
    },
    {
      "cell_type": "markdown",
      "source": [
        "# flatten"
      ],
      "metadata": {
        "id": "0zfWbI5Xdii4"
      }
    },
    {
      "cell_type": "code",
      "source": [
        "flat = reshape2.flatten()  #also used to convert 1d array\n",
        "flat"
      ],
      "metadata": {
        "colab": {
          "base_uri": "https://localhost:8080/"
        },
        "id": "BJYScVmYdnCv",
        "outputId": "e5e90fdb-e166-46d7-a16d-55088ae3090a"
      },
      "execution_count": 41,
      "outputs": [
        {
          "output_type": "execute_result",
          "data": {
            "text/plain": [
              "array([100,   2,   3,   4,   5,   6])"
            ]
          },
          "metadata": {},
          "execution_count": 41
        }
      ]
    },
    {
      "cell_type": "code",
      "source": [
        "flat[0] = 1\n",
        "flat"
      ],
      "metadata": {
        "colab": {
          "base_uri": "https://localhost:8080/"
        },
        "id": "DEvZ7qMadzRJ",
        "outputId": "1bb86ee3-b71a-4a4a-e46d-66c01b5a0be9"
      },
      "execution_count": 42,
      "outputs": [
        {
          "output_type": "execute_result",
          "data": {
            "text/plain": [
              "array([1, 2, 3, 4, 5, 6])"
            ]
          },
          "metadata": {},
          "execution_count": 42
        }
      ]
    },
    {
      "cell_type": "code",
      "source": [
        "reshape2"
      ],
      "metadata": {
        "colab": {
          "base_uri": "https://localhost:8080/"
        },
        "id": "kwwLXWpWeLeV",
        "outputId": "dbed7d58-bf61-4cc8-860b-af209993df11"
      },
      "execution_count": 43,
      "outputs": [
        {
          "output_type": "execute_result",
          "data": {
            "text/plain": [
              "array([[100,   2],\n",
              "       [  3,   4],\n",
              "       [  5,   6]])"
            ]
          },
          "metadata": {},
          "execution_count": 43
        }
      ]
    },
    {
      "cell_type": "markdown",
      "source": [
        "# Arithmetic operations"
      ],
      "metadata": {
        "id": "kNg_MgBghrWJ"
      }
    },
    {
      "cell_type": "code",
      "source": [
        "a = np.array([1,2,3])\n",
        "b = np.array([4,5,6])"
      ],
      "metadata": {
        "id": "-UuKirpthpSy"
      },
      "execution_count": 44,
      "outputs": []
    },
    {
      "cell_type": "code",
      "source": [
        "#addition\n",
        "print(a+b)"
      ],
      "metadata": {
        "colab": {
          "base_uri": "https://localhost:8080/"
        },
        "id": "sNfVBU8xiwA7",
        "outputId": "370e62cb-6497-4bb9-aa21-9258afbf0297"
      },
      "execution_count": 45,
      "outputs": [
        {
          "output_type": "stream",
          "name": "stdout",
          "text": [
            "[5 7 9]\n"
          ]
        }
      ]
    },
    {
      "cell_type": "code",
      "source": [
        "#diff\n",
        "print(a-b)"
      ],
      "metadata": {
        "colab": {
          "base_uri": "https://localhost:8080/"
        },
        "id": "YrCJQtKIi7ot",
        "outputId": "6fd6227a-bdff-43c5-a321-b03b2b04a4fd"
      },
      "execution_count": 46,
      "outputs": [
        {
          "output_type": "stream",
          "name": "stdout",
          "text": [
            "[-3 -3 -3]\n"
          ]
        }
      ]
    },
    {
      "cell_type": "code",
      "source": [
        "#div\n",
        "print(a/b)"
      ],
      "metadata": {
        "colab": {
          "base_uri": "https://localhost:8080/"
        },
        "id": "8E2ANG5oi-5d",
        "outputId": "81f64d48-2ec5-4460-c0c9-6545d5021ebf"
      },
      "execution_count": 47,
      "outputs": [
        {
          "output_type": "stream",
          "name": "stdout",
          "text": [
            "[0.25 0.4  0.5 ]\n"
          ]
        }
      ]
    },
    {
      "cell_type": "code",
      "source": [
        "#intdiv             #integer division\n",
        "print(b//a)"
      ],
      "metadata": {
        "colab": {
          "base_uri": "https://localhost:8080/"
        },
        "id": "qgZPoM5ejNXe",
        "outputId": "bafa1db6-3fe8-4f5e-fc1b-f96176a26e00"
      },
      "execution_count": 48,
      "outputs": [
        {
          "output_type": "stream",
          "name": "stdout",
          "text": [
            "[4 2 2]\n"
          ]
        }
      ]
    },
    {
      "cell_type": "code",
      "source": [
        "#mul\n",
        "print(a*b)"
      ],
      "metadata": {
        "colab": {
          "base_uri": "https://localhost:8080/"
        },
        "id": "F7SksljKjGKy",
        "outputId": "bca6ae19-963d-4e88-f062-9877714ae334"
      },
      "execution_count": 49,
      "outputs": [
        {
          "output_type": "stream",
          "name": "stdout",
          "text": [
            "[ 4 10 18]\n"
          ]
        }
      ]
    },
    {
      "cell_type": "code",
      "source": [
        "#mod\n",
        "print(b%a)"
      ],
      "metadata": {
        "colab": {
          "base_uri": "https://localhost:8080/"
        },
        "id": "POs0GAVMjJwG",
        "outputId": "efcb3bc3-1faa-4a90-950c-fcc602920381"
      },
      "execution_count": 50,
      "outputs": [
        {
          "output_type": "stream",
          "name": "stdout",
          "text": [
            "[0 1 0]\n"
          ]
        }
      ]
    },
    {
      "cell_type": "code",
      "source": [
        "#pow\n",
        "print(a**2)"
      ],
      "metadata": {
        "colab": {
          "base_uri": "https://localhost:8080/"
        },
        "id": "WRsWEwyTjibL",
        "outputId": "8ad78c57-1ee3-45d3-95e7-d50a8b1588f2"
      },
      "execution_count": 51,
      "outputs": [
        {
          "output_type": "stream",
          "name": "stdout",
          "text": [
            "[1 4 9]\n"
          ]
        }
      ]
    },
    {
      "cell_type": "markdown",
      "source": [
        "# UNIVERSAL FUNCTION"
      ],
      "metadata": {
        "id": "jphzMzf_jrFp"
      }
    },
    {
      "cell_type": "code",
      "source": [
        "arr = np.array([1,4,9,16])"
      ],
      "metadata": {
        "id": "SEMz6rwzjvzR"
      },
      "execution_count": 52,
      "outputs": []
    },
    {
      "cell_type": "markdown",
      "source": [
        "# square root"
      ],
      "metadata": {
        "id": "-K96dRW3lYIC"
      }
    },
    {
      "cell_type": "code",
      "source": [
        "print(np.sqrt(arr))"
      ],
      "metadata": {
        "colab": {
          "base_uri": "https://localhost:8080/"
        },
        "id": "qFlNmb46ku2L",
        "outputId": "77880555-60f3-4d8b-8c87-e69b660c9477"
      },
      "execution_count": 53,
      "outputs": [
        {
          "output_type": "stream",
          "name": "stdout",
          "text": [
            "[1. 2. 3. 4.]\n"
          ]
        }
      ]
    },
    {
      "cell_type": "markdown",
      "source": [
        "# exponential"
      ],
      "metadata": {
        "id": "o8hmIC24lQs7"
      }
    },
    {
      "cell_type": "code",
      "source": [
        "print(np.exp(arr))"
      ],
      "metadata": {
        "colab": {
          "base_uri": "https://localhost:8080/"
        },
        "id": "HHev44Ftl40T",
        "outputId": "fb38cb9b-61c6-4000-809d-133c0035de18"
      },
      "execution_count": 54,
      "outputs": [
        {
          "output_type": "stream",
          "name": "stdout",
          "text": [
            "[2.71828183e+00 5.45981500e+01 8.10308393e+03 8.88611052e+06]\n"
          ]
        }
      ]
    },
    {
      "cell_type": "code",
      "source": [
        "print(np.exp([1,2]))"
      ],
      "metadata": {
        "colab": {
          "base_uri": "https://localhost:8080/"
        },
        "id": "J6CPQr2mln3S",
        "outputId": "9d8c71fc-63a0-45f5-9990-474aef78fefa"
      },
      "execution_count": 55,
      "outputs": [
        {
          "output_type": "stream",
          "name": "stdout",
          "text": [
            "[2.71828183 7.3890561 ]\n"
          ]
        }
      ]
    },
    {
      "cell_type": "markdown",
      "source": [
        "#sin function"
      ],
      "metadata": {
        "id": "tB5qfVkfmAFM"
      }
    },
    {
      "cell_type": "code",
      "source": [
        "angles = np.array([0,np.pi,np.pi/2])     #sin(0),sin(pi),sin(pi/2) values\n",
        "print(np.sin(angles))"
      ],
      "metadata": {
        "colab": {
          "base_uri": "https://localhost:8080/"
        },
        "id": "UmFU-YgCl4Jz",
        "outputId": "ee45295e-9404-4b8b-a1cc-9dda5ef4b96d"
      },
      "execution_count": 56,
      "outputs": [
        {
          "output_type": "stream",
          "name": "stdout",
          "text": [
            "[0.0000000e+00 1.2246468e-16 1.0000000e+00]\n"
          ]
        }
      ]
    },
    {
      "cell_type": "markdown",
      "source": [
        "# INDEXING AND SLICING"
      ],
      "metadata": {
        "id": "5S35SGasmpfQ"
      }
    },
    {
      "cell_type": "code",
      "source": [
        "a = [1,2,3,4,5]"
      ],
      "metadata": {
        "id": "9V7GEP-6mlxV"
      },
      "execution_count": 57,
      "outputs": []
    },
    {
      "cell_type": "code",
      "source": [
        "a[-1:-4:-1]"
      ],
      "metadata": {
        "colab": {
          "base_uri": "https://localhost:8080/"
        },
        "id": "ibngz4y8nAZ1",
        "outputId": "4feade2f-53de-419c-e551-cd8c47aa424f"
      },
      "execution_count": 58,
      "outputs": [
        {
          "output_type": "execute_result",
          "data": {
            "text/plain": [
              "[5, 4, 3]"
            ]
          },
          "metadata": {},
          "execution_count": 58
        }
      ]
    },
    {
      "cell_type": "code",
      "source": [
        "a[::2]"
      ],
      "metadata": {
        "colab": {
          "base_uri": "https://localhost:8080/"
        },
        "id": "nt4iaMmQnOc1",
        "outputId": "4e5d1897-304a-4b93-eaad-cc2c300b823c"
      },
      "execution_count": 59,
      "outputs": [
        {
          "output_type": "execute_result",
          "data": {
            "text/plain": [
              "[1, 3, 5]"
            ]
          },
          "metadata": {},
          "execution_count": 59
        }
      ]
    },
    {
      "cell_type": "code",
      "source": [
        "arr = np.array([10,20,30,40,50])\n",
        "         # index  0,1,2,3,4\n",
        "arr[::2]"
      ],
      "metadata": {
        "colab": {
          "base_uri": "https://localhost:8080/"
        },
        "id": "D0VVMzSGnj78",
        "outputId": "9fd66ca7-3782-4f4e-bd2c-730ff939473b"
      },
      "execution_count": 60,
      "outputs": [
        {
          "output_type": "execute_result",
          "data": {
            "text/plain": [
              "array([10, 30, 50])"
            ]
          },
          "metadata": {},
          "execution_count": 60
        }
      ]
    },
    {
      "cell_type": "code",
      "source": [
        "print(arr[-1])"
      ],
      "metadata": {
        "colab": {
          "base_uri": "https://localhost:8080/"
        },
        "id": "ODlFZNL0oZ7a",
        "outputId": "5c1819c1-06fc-4ada-e946-b79a939a1c12"
      },
      "execution_count": 61,
      "outputs": [
        {
          "output_type": "stream",
          "name": "stdout",
          "text": [
            "50\n"
          ]
        }
      ]
    },
    {
      "cell_type": "markdown",
      "source": [
        "# md   array"
      ],
      "metadata": {
        "id": "dZIMmFAFoi1g"
      }
    },
    {
      "cell_type": "code",
      "source": [
        "matrix = np.array([[1,2,3],\n",
        "                   [4,5,6],\n",
        "                   [7,8,9]])"
      ],
      "metadata": {
        "id": "56CIF16ToeaW"
      },
      "execution_count": 62,
      "outputs": []
    },
    {
      "cell_type": "code",
      "source": [
        "print(matrix[0:2,:])"
      ],
      "metadata": {
        "colab": {
          "base_uri": "https://localhost:8080/"
        },
        "id": "H0rIBvN-o8ku",
        "outputId": "29052b2a-3d49-4cd0-820d-c6895194e045"
      },
      "execution_count": 63,
      "outputs": [
        {
          "output_type": "stream",
          "name": "stdout",
          "text": [
            "[[1 2 3]\n",
            " [4 5 6]]\n"
          ]
        }
      ]
    },
    {
      "cell_type": "code",
      "source": [
        "print(matrix[1:,1:])           #access row and cols"
      ],
      "metadata": {
        "colab": {
          "base_uri": "https://localhost:8080/"
        },
        "id": "QyvtLyJkpVdp",
        "outputId": "3eb78daf-da66-43f9-efd6-9d1e842c294c"
      },
      "execution_count": 64,
      "outputs": [
        {
          "output_type": "stream",
          "name": "stdout",
          "text": [
            "[[5 6]\n",
            " [8 9]]\n"
          ]
        }
      ]
    },
    {
      "cell_type": "markdown",
      "source": [
        "# index arrays"
      ],
      "metadata": {
        "id": "9mRyByT7q2Ra"
      }
    },
    {
      "cell_type": "code",
      "source": [
        "arr = np.array([10,20,30,40,50])\n",
        "ind=[0,2]\n",
        "print(np.take(arr,ind))"
      ],
      "metadata": {
        "colab": {
          "base_uri": "https://localhost:8080/"
        },
        "id": "76CNBMs8q1Hl",
        "outputId": "6f2f8369-5094-4f8b-af2f-dea274431f85"
      },
      "execution_count": 65,
      "outputs": [
        {
          "output_type": "stream",
          "name": "stdout",
          "text": [
            "[10 30]\n"
          ]
        }
      ]
    },
    {
      "cell_type": "markdown",
      "source": [
        "# Iterating with nditer()"
      ],
      "metadata": {
        "id": "VrR0s8eerltP"
      }
    },
    {
      "cell_type": "code",
      "source": [
        "arr = np.array([[1,2],[3,4]])"
      ],
      "metadata": {
        "id": "-Pl3a21ErtYQ"
      },
      "execution_count": 66,
      "outputs": []
    },
    {
      "cell_type": "code",
      "source": [
        "for x in np.nditer(arr):\n",
        "  print(x,end = \" \")             #elements"
      ],
      "metadata": {
        "colab": {
          "base_uri": "https://localhost:8080/"
        },
        "id": "LPHBLP9WgKip",
        "outputId": "d5ff6467-590d-4281-a91f-e27c10428e7d"
      },
      "execution_count": 67,
      "outputs": [
        {
          "output_type": "stream",
          "name": "stdout",
          "text": [
            "1 2 3 4 "
          ]
        }
      ]
    },
    {
      "cell_type": "code",
      "source": [
        "for ind, x in np.ndenumerate(arr):           #to know index and value\n",
        "   print(ind,x)"
      ],
      "metadata": {
        "colab": {
          "base_uri": "https://localhost:8080/"
        },
        "id": "a_nqxA9qhK7y",
        "outputId": "72d35b6c-97b5-4cb3-f4ef-30e6bc8d1d80"
      },
      "execution_count": 68,
      "outputs": [
        {
          "output_type": "stream",
          "name": "stdout",
          "text": [
            "(0, 0) 1\n",
            "(0, 1) 2\n",
            "(1, 0) 3\n",
            "(1, 1) 4\n"
          ]
        }
      ]
    },
    {
      "cell_type": "markdown",
      "source": [
        "# views vs copies"
      ],
      "metadata": {
        "id": "LQPg1cHCiJMY"
      }
    },
    {
      "cell_type": "code",
      "source": [
        "arr = np.array([1,2,3,4,5])\n",
        "view = arr[1:3]\n",
        "view"
      ],
      "metadata": {
        "colab": {
          "base_uri": "https://localhost:8080/"
        },
        "id": "BealncX2iOVe",
        "outputId": "7f532707-3104-47f8-cc2e-cc949f006f3a"
      },
      "execution_count": 69,
      "outputs": [
        {
          "output_type": "execute_result",
          "data": {
            "text/plain": [
              "array([2, 3])"
            ]
          },
          "metadata": {},
          "execution_count": 69
        }
      ]
    },
    {
      "cell_type": "code",
      "source": [
        "view[0]=200\n",
        "view"
      ],
      "metadata": {
        "colab": {
          "base_uri": "https://localhost:8080/"
        },
        "id": "1J0TzVU-ifk0",
        "outputId": "4e828e83-3cfe-472e-f132-3aee063dc1af"
      },
      "execution_count": 70,
      "outputs": [
        {
          "output_type": "execute_result",
          "data": {
            "text/plain": [
              "array([200,   3])"
            ]
          },
          "metadata": {},
          "execution_count": 70
        }
      ]
    },
    {
      "cell_type": "code",
      "source": [
        "arr"
      ],
      "metadata": {
        "colab": {
          "base_uri": "https://localhost:8080/"
        },
        "id": "Hi4LHT8YilEh",
        "outputId": "2ab87199-2201-4548-8de9-91a86b1af187"
      },
      "execution_count": 71,
      "outputs": [
        {
          "output_type": "execute_result",
          "data": {
            "text/plain": [
              "array([  1, 200,   3,   4,   5])"
            ]
          },
          "metadata": {},
          "execution_count": 71
        }
      ]
    },
    {
      "cell_type": "markdown",
      "source": [
        "# copy"
      ],
      "metadata": {
        "id": "-HY-Ls9VjKv4"
      }
    },
    {
      "cell_type": "code",
      "source": [
        "copy = arr[1:3].copy()\n",
        "copy"
      ],
      "metadata": {
        "colab": {
          "base_uri": "https://localhost:8080/"
        },
        "id": "SSPKLVECjIiE",
        "outputId": "75ec3152-ef50-489b-fc2a-0d7674877999"
      },
      "execution_count": 72,
      "outputs": [
        {
          "output_type": "execute_result",
          "data": {
            "text/plain": [
              "array([200,   3])"
            ]
          },
          "metadata": {},
          "execution_count": 72
        }
      ]
    },
    {
      "cell_type": "code",
      "source": [
        "copy[0] = 2\n",
        "copy"
      ],
      "metadata": {
        "colab": {
          "base_uri": "https://localhost:8080/"
        },
        "id": "je70wqIRjtFl",
        "outputId": "ba7c012b-d986-4c99-f162-29d8efefca1c"
      },
      "execution_count": 73,
      "outputs": [
        {
          "output_type": "execute_result",
          "data": {
            "text/plain": [
              "array([2, 3])"
            ]
          },
          "metadata": {},
          "execution_count": 73
        }
      ]
    },
    {
      "cell_type": "code",
      "source": [
        "arr"
      ],
      "metadata": {
        "colab": {
          "base_uri": "https://localhost:8080/"
        },
        "id": "McQvH-APj1Zw",
        "outputId": "eb44f5b1-d81b-4847-ed35-2c5bacd561c5"
      },
      "execution_count": 74,
      "outputs": [
        {
          "output_type": "execute_result",
          "data": {
            "text/plain": [
              "array([  1, 200,   3,   4,   5])"
            ]
          },
          "metadata": {},
          "execution_count": 74
        }
      ]
    },
    {
      "cell_type": "markdown",
      "source": [
        "# TRANSPOASE"
      ],
      "metadata": {
        "id": "Xn9PlGfLj7g7"
      }
    },
    {
      "cell_type": "code",
      "source": [
        "arr = np.array([[1,2],[3,4]])   #row is converted to col viceversa\n",
        "arr"
      ],
      "metadata": {
        "colab": {
          "base_uri": "https://localhost:8080/"
        },
        "id": "ydiylH-ij_g6",
        "outputId": "4a396345-45e8-49e7-b9d7-5c80c30098d5"
      },
      "execution_count": 75,
      "outputs": [
        {
          "output_type": "execute_result",
          "data": {
            "text/plain": [
              "array([[1, 2],\n",
              "       [3, 4]])"
            ]
          },
          "metadata": {},
          "execution_count": 75
        }
      ]
    },
    {
      "cell_type": "code",
      "source": [
        "print(arr.transpose())"
      ],
      "metadata": {
        "colab": {
          "base_uri": "https://localhost:8080/"
        },
        "id": "4v9QM3IIkUM7",
        "outputId": "c47950b1-1fbd-4361-d7ff-b15e19b96b61"
      },
      "execution_count": 76,
      "outputs": [
        {
          "output_type": "stream",
          "name": "stdout",
          "text": [
            "[[1 3]\n",
            " [2 4]]\n"
          ]
        }
      ]
    },
    {
      "cell_type": "markdown",
      "source": [
        "# swapaxes"
      ],
      "metadata": {
        "id": "U5cfekXtksM4"
      }
    },
    {
      "cell_type": "code",
      "source": [
        "arr = np.array([[[1,2],[3,4]]])\n",
        "arr.shape"
      ],
      "metadata": {
        "colab": {
          "base_uri": "https://localhost:8080/"
        },
        "id": "eUoQqf-Zkwll",
        "outputId": "cdf22902-3fd7-471c-fc84-6d1f90b67146"
      },
      "execution_count": 77,
      "outputs": [
        {
          "output_type": "execute_result",
          "data": {
            "text/plain": [
              "(1, 2, 2)"
            ]
          },
          "metadata": {},
          "execution_count": 77
        }
      ]
    },
    {
      "cell_type": "code",
      "source": [
        "swap = np.swapaxes(arr,0,1)  #swap oth axes with first axes\n",
        "swap.shape"
      ],
      "metadata": {
        "colab": {
          "base_uri": "https://localhost:8080/"
        },
        "id": "YMW-cEm8lCc4",
        "outputId": "673c76db-1fdd-4cfc-eb10-6fd0ecf11e4f"
      },
      "execution_count": 78,
      "outputs": [
        {
          "output_type": "execute_result",
          "data": {
            "text/plain": [
              "(2, 1, 2)"
            ]
          },
          "metadata": {},
          "execution_count": 78
        }
      ]
    },
    {
      "cell_type": "code",
      "source": [
        "swap"
      ],
      "metadata": {
        "colab": {
          "base_uri": "https://localhost:8080/"
        },
        "id": "DDo2nzCmlkfX",
        "outputId": "a9ed79c9-e34d-4b85-978c-2e009bf966a7"
      },
      "execution_count": 79,
      "outputs": [
        {
          "output_type": "execute_result",
          "data": {
            "text/plain": [
              "array([[[1, 2]],\n",
              "\n",
              "       [[3, 4]]])"
            ]
          },
          "metadata": {},
          "execution_count": 79
        }
      ]
    },
    {
      "cell_type": "markdown",
      "source": [
        "# concatenation"
      ],
      "metadata": {
        "id": "wajyvX0ul__j"
      }
    },
    {
      "cell_type": "code",
      "source": [
        "a  = np.array([[1,2]])\n",
        "b  = np.array([[5,6]])"
      ],
      "metadata": {
        "id": "oGqSj3TFmDXe"
      },
      "execution_count": 80,
      "outputs": []
    },
    {
      "cell_type": "code",
      "source": [
        "combine = np.concatenate((a,b))\n",
        "combine"
      ],
      "metadata": {
        "colab": {
          "base_uri": "https://localhost:8080/"
        },
        "id": "UFLwS8EVmpZX",
        "outputId": "b4c05da0-5e80-44eb-8138-a26b1eaf03e1"
      },
      "execution_count": 81,
      "outputs": [
        {
          "output_type": "execute_result",
          "data": {
            "text/plain": [
              "array([[1, 2],\n",
              "       [5, 6]])"
            ]
          },
          "metadata": {},
          "execution_count": 81
        }
      ]
    },
    {
      "cell_type": "code",
      "source": [
        "arr1 = np.array([[1,2],[3,4]])\n",
        "arr2 = np.array([[5,6],[7,8]])"
      ],
      "metadata": {
        "id": "PyLf-r49nAcR"
      },
      "execution_count": 82,
      "outputs": []
    },
    {
      "cell_type": "code",
      "source": [
        "print(np.vstack((arr1,arr2)))"
      ],
      "metadata": {
        "colab": {
          "base_uri": "https://localhost:8080/"
        },
        "id": "YMuNO9K4nVGt",
        "outputId": "95b9685c-d929-47b0-a72a-88c91ea1be63"
      },
      "execution_count": 83,
      "outputs": [
        {
          "output_type": "stream",
          "name": "stdout",
          "text": [
            "[[1 2]\n",
            " [3 4]\n",
            " [5 6]\n",
            " [7 8]]\n"
          ]
        }
      ]
    },
    {
      "cell_type": "code",
      "source": [
        "print(np.hstack((arr1,arr2)))"
      ],
      "metadata": {
        "colab": {
          "base_uri": "https://localhost:8080/"
        },
        "id": "8NGUsHImnqKX",
        "outputId": "ac43597b-9c9a-4541-d713-5783bebb77a0"
      },
      "execution_count": 86,
      "outputs": [
        {
          "output_type": "stream",
          "name": "stdout",
          "text": [
            "[[1 2 5 6]\n",
            " [3 4 7 8]]\n"
          ]
        }
      ]
    },
    {
      "cell_type": "markdown",
      "source": [
        "## axis =0 means rows\n",
        "## axis =1 means cols"
      ],
      "metadata": {
        "id": "dB1x7IOWoJgB"
      }
    },
    {
      "cell_type": "code",
      "source": [
        "print(np.stack((arr1,arr2),axis = 0))"
      ],
      "metadata": {
        "colab": {
          "base_uri": "https://localhost:8080/"
        },
        "id": "rGccSqt7G_9X",
        "outputId": "fcf9cc8e-453f-4f45-89b0-1408e249d682"
      },
      "execution_count": 89,
      "outputs": [
        {
          "output_type": "stream",
          "name": "stdout",
          "text": [
            "[[[1 2]\n",
            "  [3 4]]\n",
            "\n",
            " [[5 6]\n",
            "  [7 8]]]\n"
          ]
        }
      ]
    },
    {
      "cell_type": "code",
      "source": [
        "print(np.stack((arr1,arr2),axis = 1))"
      ],
      "metadata": {
        "colab": {
          "base_uri": "https://localhost:8080/"
        },
        "id": "Yi9Hs_S5H_zs",
        "outputId": "aa5fd237-e1b4-453d-94df-8464c54d6ae5"
      },
      "execution_count": 90,
      "outputs": [
        {
          "output_type": "stream",
          "name": "stdout",
          "text": [
            "[[[1 2]\n",
            "  [5 6]]\n",
            "\n",
            " [[3 4]\n",
            "  [7 8]]]\n"
          ]
        }
      ]
    },
    {
      "cell_type": "code",
      "source": [
        "arr1"
      ],
      "metadata": {
        "id": "arlLYYtJImKv",
        "outputId": "0e7204a2-c39d-4c46-aa31-a897efb4e19d",
        "colab": {
          "base_uri": "https://localhost:8080/"
        }
      },
      "execution_count": 96,
      "outputs": [
        {
          "output_type": "execute_result",
          "data": {
            "text/plain": [
              "array([[1, 2],\n",
              "       [3, 4]])"
            ]
          },
          "metadata": {},
          "execution_count": 96
        }
      ]
    },
    {
      "cell_type": "code",
      "source": [
        "print(np.split(arr1, 2))"
      ],
      "metadata": {
        "colab": {
          "base_uri": "https://localhost:8080/"
        },
        "id": "vJn63Sf7IIXh",
        "outputId": "4cf0d071-0abe-48b9-b46e-1f1248af1401"
      },
      "execution_count": 95,
      "outputs": [
        {
          "output_type": "stream",
          "name": "stdout",
          "text": [
            "[array([[1, 2]]), array([[3, 4]])]\n"
          ]
        }
      ]
    },
    {
      "cell_type": "code",
      "source": [
        "print(np.hsplit(arr1,2))"
      ],
      "metadata": {
        "id": "sXGE3TUeI2RA",
        "outputId": "c03ab7c9-a7d8-4296-e2a1-c3be58d113eb",
        "colab": {
          "base_uri": "https://localhost:8080/"
        }
      },
      "execution_count": 97,
      "outputs": [
        {
          "output_type": "stream",
          "name": "stdout",
          "text": [
            "[array([[1],\n",
            "       [3]]), array([[2],\n",
            "       [4]])]\n"
          ]
        }
      ]
    },
    {
      "cell_type": "markdown",
      "source": [
        "# Repeat"
      ],
      "metadata": {
        "id": "ouLkzYxcI_sJ"
      }
    },
    {
      "cell_type": "code",
      "source": [
        "arr = np.array([1,2,3])\n",
        "print(np.repeat(arr,2))"
      ],
      "metadata": {
        "id": "xgOH6MV4I9-h",
        "outputId": "f44a45a9-320b-4575-a437-3bcbb896dbb2",
        "colab": {
          "base_uri": "https://localhost:8080/"
        }
      },
      "execution_count": 98,
      "outputs": [
        {
          "output_type": "stream",
          "name": "stdout",
          "text": [
            "[1 1 2 2 3 3]\n"
          ]
        }
      ]
    },
    {
      "cell_type": "markdown",
      "source": [
        "# Tile"
      ],
      "metadata": {
        "id": "sjrRygINJNEC"
      }
    },
    {
      "cell_type": "code",
      "source": [
        "print(np.tile(arr,2))"
      ],
      "metadata": {
        "id": "olpnPjVWJQEq",
        "outputId": "7c9c94b3-290c-42b2-b8db-f8fba0f80f7e",
        "colab": {
          "base_uri": "https://localhost:8080/"
        }
      },
      "execution_count": 100,
      "outputs": [
        {
          "output_type": "stream",
          "name": "stdout",
          "text": [
            "[1 2 3 1 2 3]\n"
          ]
        }
      ]
    },
    {
      "cell_type": "markdown",
      "source": [
        "# Agregate function"
      ],
      "metadata": {
        "id": "vP3gOwnZJg-_"
      }
    },
    {
      "cell_type": "code",
      "source": [
        "arr = np.array([1,2,3,4,5])\n",
        "print(np.sum(arr))"
      ],
      "metadata": {
        "id": "4yauYQ0lJgMj",
        "outputId": "2ee30086-b456-4201-9863-a59c990f4489",
        "colab": {
          "base_uri": "https://localhost:8080/"
        }
      },
      "execution_count": 102,
      "outputs": [
        {
          "output_type": "stream",
          "name": "stdout",
          "text": [
            "15\n"
          ]
        }
      ]
    },
    {
      "cell_type": "code",
      "source": [
        "np.mean(arr)"
      ],
      "metadata": {
        "id": "UfYsQDrKJ37t",
        "outputId": "a97f642c-6e02-41f3-f574-89364bdee6ba",
        "colab": {
          "base_uri": "https://localhost:8080/"
        }
      },
      "execution_count": 103,
      "outputs": [
        {
          "output_type": "execute_result",
          "data": {
            "text/plain": [
              "np.float64(3.0)"
            ]
          },
          "metadata": {},
          "execution_count": 103
        }
      ]
    },
    {
      "cell_type": "code",
      "source": [
        "np.median(arr)"
      ],
      "metadata": {
        "id": "cJEUkzvxJ-qq",
        "outputId": "0ccfb334-5859-4e75-b88f-d4b7ac741bbf",
        "colab": {
          "base_uri": "https://localhost:8080/"
        }
      },
      "execution_count": 104,
      "outputs": [
        {
          "output_type": "execute_result",
          "data": {
            "text/plain": [
              "np.float64(3.0)"
            ]
          },
          "metadata": {},
          "execution_count": 104
        }
      ]
    },
    {
      "cell_type": "code",
      "source": [
        "np.std(arr)"
      ],
      "metadata": {
        "id": "eHY02dQmKDxJ",
        "outputId": "ad80a929-9c4e-4ed6-c41b-6a1951b13996",
        "colab": {
          "base_uri": "https://localhost:8080/"
        }
      },
      "execution_count": 105,
      "outputs": [
        {
          "output_type": "execute_result",
          "data": {
            "text/plain": [
              "np.float64(1.4142135623730951)"
            ]
          },
          "metadata": {},
          "execution_count": 105
        }
      ]
    },
    {
      "cell_type": "code",
      "source": [
        "np.min(arr)"
      ],
      "metadata": {
        "id": "QCXXhmrPKIGe",
        "outputId": "1652020e-143e-449e-d2b6-7a2cb0c76e2d",
        "colab": {
          "base_uri": "https://localhost:8080/"
        }
      },
      "execution_count": 106,
      "outputs": [
        {
          "output_type": "execute_result",
          "data": {
            "text/plain": [
              "np.int64(1)"
            ]
          },
          "metadata": {},
          "execution_count": 106
        }
      ]
    },
    {
      "cell_type": "code",
      "source": [
        "np.max(arr)"
      ],
      "metadata": {
        "id": "e42eGsWaKM7A",
        "outputId": "8870d778-5183-45dc-9aae-3b7473e37d8b",
        "colab": {
          "base_uri": "https://localhost:8080/"
        }
      },
      "execution_count": 107,
      "outputs": [
        {
          "output_type": "execute_result",
          "data": {
            "text/plain": [
              "np.int64(5)"
            ]
          },
          "metadata": {},
          "execution_count": 107
        }
      ]
    },
    {
      "cell_type": "code",
      "source": [
        "matrix"
      ],
      "metadata": {
        "id": "Sg8_lxRVKPx8",
        "outputId": "2644e609-5a34-45db-9c02-b15112b7fecc",
        "colab": {
          "base_uri": "https://localhost:8080/"
        }
      },
      "execution_count": 108,
      "outputs": [
        {
          "output_type": "execute_result",
          "data": {
            "text/plain": [
              "array([[1, 2, 3],\n",
              "       [4, 5, 6],\n",
              "       [7, 8, 9]])"
            ]
          },
          "metadata": {},
          "execution_count": 108
        }
      ]
    },
    {
      "cell_type": "code",
      "source": [
        "print(np.sum(matrix,axis = 0))"
      ],
      "metadata": {
        "id": "unmRdcnSKSqg",
        "outputId": "551de216-af4b-4d0d-cb26-32adea84e6ad",
        "colab": {
          "base_uri": "https://localhost:8080/"
        }
      },
      "execution_count": 109,
      "outputs": [
        {
          "output_type": "stream",
          "name": "stdout",
          "text": [
            "[12 15 18]\n"
          ]
        }
      ]
    },
    {
      "cell_type": "markdown",
      "source": [
        "# cumulative operation - running total"
      ],
      "metadata": {
        "id": "_ssfjBeNKgI6"
      }
    },
    {
      "cell_type": "code",
      "source": [
        "arr"
      ],
      "metadata": {
        "id": "g5rnWHJUKY5h",
        "outputId": "6947d52d-45be-4fc3-efd5-c29647ff8685",
        "colab": {
          "base_uri": "https://localhost:8080/"
        }
      },
      "execution_count": 110,
      "outputs": [
        {
          "output_type": "execute_result",
          "data": {
            "text/plain": [
              "array([1, 2, 3, 4, 5])"
            ]
          },
          "metadata": {},
          "execution_count": 110
        }
      ]
    },
    {
      "cell_type": "code",
      "source": [
        "print(np.cumsum(arr))     #sum of first and scond element\n",
        "                           #sum of first,second and third element\n",
        "                           #sum of first,second,third and fourth element\n",
        "                           #sum of first,second,third,fourth and fifth element"
      ],
      "metadata": {
        "id": "NiTq8sLFKr06",
        "outputId": "8f9c9880-33a6-4ed9-bc2f-ff036b101d84",
        "colab": {
          "base_uri": "https://localhost:8080/"
        }
      },
      "execution_count": 113,
      "outputs": [
        {
          "output_type": "stream",
          "name": "stdout",
          "text": [
            "[ 1  3  6 10 15]\n"
          ]
        }
      ]
    },
    {
      "cell_type": "code",
      "source": [
        "print(np.cumprod(arr))     #one*1\n",
        "                           #one*2\n",
        "                           #one*2*3\n",
        "                           #one*2*3*4\n",
        "                           #one*2*3*4*5\n",
        ""
      ],
      "metadata": {
        "id": "FInL9i13K1UY",
        "outputId": "441bddbe-8e77-4cf2-c8c2-5675a6e369f7",
        "colab": {
          "base_uri": "https://localhost:8080/"
        }
      },
      "execution_count": 114,
      "outputs": [
        {
          "output_type": "stream",
          "name": "stdout",
          "text": [
            "[  1   2   6  24 120]\n"
          ]
        }
      ]
    },
    {
      "cell_type": "markdown",
      "source": [
        "# Conditional based choices"
      ],
      "metadata": {
        "id": "FASkXF3xMF_1"
      }
    },
    {
      "cell_type": "code",
      "source": [
        "arr"
      ],
      "metadata": {
        "id": "-xEcpi00Mq2U",
        "outputId": "fb61d9e9-7f54-4967-b0ba-5367af3225ac",
        "colab": {
          "base_uri": "https://localhost:8080/"
        }
      },
      "execution_count": 118,
      "outputs": [
        {
          "output_type": "execute_result",
          "data": {
            "text/plain": [
              "array([1, 2, 3, 4, 5])"
            ]
          },
          "metadata": {},
          "execution_count": 118
        }
      ]
    },
    {
      "cell_type": "code",
      "source": [
        "result = np.where(arr< 2,\"low\",\"high\")\n",
        "result"
      ],
      "metadata": {
        "id": "uAUX7yUZL_3I",
        "outputId": "69d419c4-4f90-45d6-9e54-591d3f884e44",
        "colab": {
          "base_uri": "https://localhost:8080/"
        }
      },
      "execution_count": 117,
      "outputs": [
        {
          "output_type": "execute_result",
          "data": {
            "text/plain": [
              "array(['low', 'high', 'high', 'high', 'high'], dtype='<U4')"
            ]
          },
          "metadata": {},
          "execution_count": 117
        }
      ]
    },
    {
      "cell_type": "markdown",
      "source": [
        "# argwhere: row:col position for 2d arrays"
      ],
      "metadata": {
        "id": "YE7BnpvBMx6R"
      }
    },
    {
      "cell_type": "code",
      "source": [
        "arr"
      ],
      "metadata": {
        "id": "C74DEasUM7_a",
        "outputId": "000d9f97-7d6d-48c6-9d3f-d3416a9785d2",
        "colab": {
          "base_uri": "https://localhost:8080/"
        }
      },
      "execution_count": 119,
      "outputs": [
        {
          "output_type": "execute_result",
          "data": {
            "text/plain": [
              "array([1, 2, 3, 4, 5])"
            ]
          },
          "metadata": {},
          "execution_count": 119
        }
      ]
    },
    {
      "cell_type": "code",
      "source": [
        "print(np.argwhere(arr>2))"
      ],
      "metadata": {
        "id": "0G-rfDTwM-Hm",
        "outputId": "6f8767b1-1211-47fc-972e-18c5f13e5917",
        "colab": {
          "base_uri": "https://localhost:8080/"
        }
      },
      "execution_count": 121,
      "outputs": [
        {
          "output_type": "stream",
          "name": "stdout",
          "text": [
            "[[2]\n",
            " [3]\n",
            " [4]]\n"
          ]
        }
      ]
    },
    {
      "cell_type": "code",
      "source": [
        "matrix"
      ],
      "metadata": {
        "id": "Cd1O0fbuN7Ac",
        "outputId": "e0b5b932-656e-491e-c66b-2e84b66c6a82",
        "colab": {
          "base_uri": "https://localhost:8080/"
        }
      },
      "execution_count": 127,
      "outputs": [
        {
          "output_type": "execute_result",
          "data": {
            "text/plain": [
              "array([[1, 2, 3],\n",
              "       [4, 5, 6],\n",
              "       [7, 8, 9]])"
            ]
          },
          "metadata": {},
          "execution_count": 127
        }
      ]
    },
    {
      "cell_type": "code",
      "source": [
        "print(np.argwhere(matrix>5))   #wherever  index >5  [1 2]  first row 2nd cols"
      ],
      "metadata": {
        "id": "3GY0yr9dOA9F",
        "outputId": "6eae6379-a007-4bf5-e6e9-16dbe020f2e8",
        "colab": {
          "base_uri": "https://localhost:8080/"
        }
      },
      "execution_count": 128,
      "outputs": [
        {
          "output_type": "stream",
          "name": "stdout",
          "text": [
            "[[1 2]\n",
            " [2 0]\n",
            " [2 1]\n",
            " [2 2]]\n"
          ]
        }
      ]
    },
    {
      "cell_type": "markdown",
      "source": [
        "# logical and"
      ],
      "metadata": {
        "id": "-kjsWW9sO0Um"
      }
    },
    {
      "cell_type": "code",
      "source": [
        "arr"
      ],
      "metadata": {
        "id": "Tr8LB8xSO0Di",
        "outputId": "cd6530e3-9856-4047-da2d-67353de58490",
        "colab": {
          "base_uri": "https://localhost:8080/"
        }
      },
      "execution_count": 129,
      "outputs": [
        {
          "output_type": "execute_result",
          "data": {
            "text/plain": [
              "array([10, 20, 30, 40, 50])"
            ]
          },
          "metadata": {},
          "execution_count": 129
        }
      ]
    },
    {
      "cell_type": "code",
      "source": [
        "mask = np.logical_and(arr>15,arr<35)        #condition\n",
        "mask"
      ],
      "metadata": {
        "id": "crEIzAjHOo9g",
        "outputId": "c9e75d7a-b9f3-40b9-cafb-aa63878c9d4e",
        "colab": {
          "base_uri": "https://localhost:8080/"
        }
      },
      "execution_count": 130,
      "outputs": [
        {
          "output_type": "execute_result",
          "data": {
            "text/plain": [
              "array([False,  True,  True, False, False])"
            ]
          },
          "metadata": {},
          "execution_count": 130
        }
      ]
    },
    {
      "cell_type": "code",
      "source": [
        "arr[mask]"
      ],
      "metadata": {
        "id": "7T4rkrwlPJXA",
        "outputId": "6a4562e4-6c47-4005-d27b-f8e28b196e98",
        "colab": {
          "base_uri": "https://localhost:8080/"
        }
      },
      "execution_count": 131,
      "outputs": [
        {
          "output_type": "execute_result",
          "data": {
            "text/plain": [
              "array([20, 30])"
            ]
          },
          "metadata": {},
          "execution_count": 131
        }
      ]
    },
    {
      "cell_type": "markdown",
      "source": [
        "# logical or"
      ],
      "metadata": {
        "id": "qkUmjDbpPQYS"
      }
    },
    {
      "cell_type": "code",
      "source": [
        "mask = np.logical_or(arr>60,arr<35)\n",
        "arr[mask]"
      ],
      "metadata": {
        "id": "CGxvGHhkPOzA",
        "outputId": "7248823d-be42-40ec-f41c-26cbbe0bf826",
        "colab": {
          "base_uri": "https://localhost:8080/"
        }
      },
      "execution_count": 136,
      "outputs": [
        {
          "output_type": "execute_result",
          "data": {
            "text/plain": [
              "array([10, 20, 30])"
            ]
          },
          "metadata": {},
          "execution_count": 136
        }
      ]
    },
    {
      "cell_type": "markdown",
      "source": [],
      "metadata": {
        "id": "LnW-tCpAP2vD"
      }
    },
    {
      "cell_type": "code",
      "source": [
        "arr2 = np.array([0,1,5,0,5])\n",
        "arr2"
      ],
      "metadata": {
        "id": "RyS9eeZzP2jw",
        "outputId": "df6b0372-bf1a-406d-f8f4-5ffbf7830e7a",
        "colab": {
          "base_uri": "https://localhost:8080/"
        }
      },
      "execution_count": 141,
      "outputs": [
        {
          "output_type": "execute_result",
          "data": {
            "text/plain": [
              "array([0, 1, 5, 0, 5])"
            ]
          },
          "metadata": {},
          "execution_count": 141
        }
      ]
    },
    {
      "cell_type": "code",
      "source": [
        "print(np.nonzero(arr2))  # it will print non zero elment arra INDEX"
      ],
      "metadata": {
        "id": "tbKfLiQbQEtv",
        "outputId": "79577fdf-8d57-4bfd-baca-22d2fa5ad6b3",
        "colab": {
          "base_uri": "https://localhost:8080/"
        }
      },
      "execution_count": 142,
      "outputs": [
        {
          "output_type": "stream",
          "name": "stdout",
          "text": [
            "(array([1, 2, 4]),)\n"
          ]
        }
      ]
    },
    {
      "cell_type": "markdown",
      "source": [
        "# Broadcasting"
      ],
      "metadata": {
        "id": "TKlDoFCiRIkc"
      }
    },
    {
      "cell_type": "code",
      "source": [
        "image = np.array([[200,150],[100,250]])\n",
        "image.shape\n"
      ],
      "metadata": {
        "id": "gtjqc7oLQNgu",
        "outputId": "532ac9b4-a5e4-4b72-fa49-ea222cff1283",
        "colab": {
          "base_uri": "https://localhost:8080/"
        }
      },
      "execution_count": 148,
      "outputs": [
        {
          "output_type": "execute_result",
          "data": {
            "text/plain": [
              "(2, 2)"
            ]
          },
          "metadata": {},
          "execution_count": 148
        }
      ]
    },
    {
      "cell_type": "code",
      "source": [
        "image"
      ],
      "metadata": {
        "id": "KEGyDU1zSf6z",
        "outputId": "668f5c3f-dd63-484d-fc84-ffb641882b68",
        "colab": {
          "base_uri": "https://localhost:8080/"
        }
      },
      "execution_count": 149,
      "outputs": [
        {
          "output_type": "execute_result",
          "data": {
            "text/plain": [
              "array([[200, 150],\n",
              "       [100, 250]])"
            ]
          },
          "metadata": {},
          "execution_count": 149
        }
      ]
    },
    {
      "cell_type": "code",
      "source": [
        "brightness = image + 50\n",
        "brightness"
      ],
      "metadata": {
        "id": "wiCG7Pe9SMXY",
        "outputId": "f3e84524-6853-43d8-de27-29fb9ead8067",
        "colab": {
          "base_uri": "https://localhost:8080/"
        }
      },
      "execution_count": 146,
      "outputs": [
        {
          "output_type": "execute_result",
          "data": {
            "text/plain": [
              "array([[250, 200],\n",
              "       [150, 300]])"
            ]
          },
          "metadata": {},
          "execution_count": 146
        }
      ]
    },
    {
      "cell_type": "markdown",
      "source": [
        "# VECTORIZATION"
      ],
      "metadata": {
        "id": "C7pQsvYbSjZ8"
      }
    },
    {
      "cell_type": "code",
      "source": [
        "np.vectorize()   #convert regular functn to be applied on an array"
      ],
      "metadata": {
        "id": "6jqMMPm1SiEl",
        "outputId": "def229fc-a721-4b3a-fbca-8459ab9b33a4",
        "colab": {
          "base_uri": "https://localhost:8080/"
        }
      },
      "execution_count": 151,
      "outputs": [
        {
          "output_type": "execute_result",
          "data": {
            "text/plain": [
              "<numpy.vectorize at 0x7c3fc7432e90>"
            ]
          },
          "metadata": {},
          "execution_count": 151
        }
      ]
    },
    {
      "cell_type": "code",
      "source": [
        "def square(x):\n",
        "  return x*x\n",
        "  vfunc = np.vectorize(square)"
      ],
      "metadata": {
        "id": "k8Ncg_M5TCrh"
      },
      "execution_count": 152,
      "outputs": []
    },
    {
      "cell_type": "code",
      "source": [
        "arr"
      ],
      "metadata": {
        "id": "L6UtllVjTRGJ",
        "outputId": "b22de873-8da2-4c2e-a6c8-5d997a002690",
        "colab": {
          "base_uri": "https://localhost:8080/"
        }
      },
      "execution_count": 153,
      "outputs": [
        {
          "output_type": "execute_result",
          "data": {
            "text/plain": [
              "array([10, 20, 30, 40, 50])"
            ]
          },
          "metadata": {},
          "execution_count": 153
        }
      ]
    },
    {
      "cell_type": "markdown",
      "source": [
        "# DEALING WITH MISSNG VALUES\n",
        "#np.nan-----> NOT A NUMBER"
      ],
      "metadata": {
        "id": "n28PaVO1TjVW"
      }
    },
    {
      "cell_type": "code",
      "source": [
        "a = np.array([1,2,np.nan,4])"
      ],
      "metadata": {
        "id": "G74bT3QYT0hX"
      },
      "execution_count": 154,
      "outputs": []
    },
    {
      "cell_type": "code",
      "source": [
        "a"
      ],
      "metadata": {
        "id": "uAu234PCUBVy",
        "outputId": "547abcf7-74af-4a9d-cb6a-87810d955296",
        "colab": {
          "base_uri": "https://localhost:8080/"
        }
      },
      "execution_count": 155,
      "outputs": [
        {
          "output_type": "execute_result",
          "data": {
            "text/plain": [
              "array([ 1.,  2., nan,  4.])"
            ]
          },
          "metadata": {},
          "execution_count": 155
        }
      ]
    },
    {
      "cell_type": "markdown",
      "source": [
        "# np.inf    -------> +ve and-ve infinites"
      ],
      "metadata": {
        "id": "n772kJOoUEJR"
      }
    },
    {
      "cell_type": "code",
      "source": [
        "#np.isnan\n",
        "#np.isinf\n",
        "#np.isinfinite"
      ],
      "metadata": {
        "id": "PtxI2vy6UDo-"
      },
      "execution_count": 157,
      "outputs": []
    },
    {
      "cell_type": "code",
      "source": [
        "a"
      ],
      "metadata": {
        "id": "Rx98bQ4hUo7S",
        "outputId": "fdcabd60-6c10-4c62-ff75-b0c2fc42ffd8",
        "colab": {
          "base_uri": "https://localhost:8080/"
        }
      },
      "execution_count": 158,
      "outputs": [
        {
          "output_type": "execute_result",
          "data": {
            "text/plain": [
              "array([ 1.,  2., nan,  4.])"
            ]
          },
          "metadata": {},
          "execution_count": 158
        }
      ]
    },
    {
      "cell_type": "code",
      "source": [
        "print(np.isnan(a))"
      ],
      "metadata": {
        "id": "2YeRktmCUfCj",
        "outputId": "62b6160d-14f1-4098-edf1-fbdb90223435",
        "colab": {
          "base_uri": "https://localhost:8080/"
        }
      },
      "execution_count": 160,
      "outputs": [
        {
          "output_type": "stream",
          "name": "stdout",
          "text": [
            "[False False  True False]\n"
          ]
        }
      ]
    },
    {
      "cell_type": "code",
      "source": [
        "b = np.array([1,np.nan,np.inf,10.2,40])"
      ],
      "metadata": {
        "id": "ikJbdg_cUuzc"
      },
      "execution_count": 162,
      "outputs": []
    },
    {
      "cell_type": "code",
      "source": [
        "print(np.isinf(b))"
      ],
      "metadata": {
        "id": "iiSU7uLIVDs-",
        "outputId": "3773b334-5859-4a00-c9df-5b0ca9335ee9",
        "colab": {
          "base_uri": "https://localhost:8080/"
        }
      },
      "execution_count": 163,
      "outputs": [
        {
          "output_type": "stream",
          "name": "stdout",
          "text": [
            "[False False  True False False]\n"
          ]
        }
      ]
    },
    {
      "cell_type": "code",
      "source": [
        "new_b=np.nan_to_num(b)    #remove not a nan/infinite values"
      ],
      "metadata": {
        "id": "A1eMyS3aVUZm"
      },
      "execution_count": 167,
      "outputs": []
    },
    {
      "cell_type": "code",
      "source": [
        "new_b"
      ],
      "metadata": {
        "id": "lyYhgiv3VnTQ",
        "outputId": "b91bce9d-232c-4bad-aed9-b22ea4ed5132",
        "colab": {
          "base_uri": "https://localhost:8080/"
        }
      },
      "execution_count": 169,
      "outputs": [
        {
          "output_type": "execute_result",
          "data": {
            "text/plain": [
              "array([1.00000000e+000, 0.00000000e+000, 1.79769313e+308, 1.02000000e+001,\n",
              "       4.00000000e+001])"
            ]
          },
          "metadata": {},
          "execution_count": 169
        }
      ]
    }
  ],
  "metadata": {
    "colab": {
      "name": "Welcome To Colab",
      "provenance": [],
      "include_colab_link": true
    },
    "kernelspec": {
      "display_name": "Python 3",
      "name": "python3"
    }
  },
  "nbformat": 4,
  "nbformat_minor": 0
}