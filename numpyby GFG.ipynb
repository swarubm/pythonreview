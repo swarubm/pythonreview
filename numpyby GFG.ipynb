{
  "nbformat": 4,
  "nbformat_minor": 0,
  "metadata": {
    "colab": {
      "provenance": [],
      "authorship_tag": "ABX9TyO4iSOlfcZ7nzVzZqRFoYWr",
      "include_colab_link": true
    },
    "kernelspec": {
      "name": "python3",
      "display_name": "Python 3"
    },
    "language_info": {
      "name": "python"
    }
  },
  "cells": [
    {
      "cell_type": "markdown",
      "metadata": {
        "id": "view-in-github",
        "colab_type": "text"
      },
      "source": [
        "<a href=\"https://colab.research.google.com/github/swarubm/pythonreview/blob/main/numpyby%20GFG.ipynb\" target=\"_parent\"><img src=\"https://colab.research.google.com/assets/colab-badge.svg\" alt=\"Open In Colab\"/></a>"
      ]
    },
    {
      "cell_type": "markdown",
      "source": [
        "1. Converting a List to an array\n",
        "2. Arange Function\n",
        "3. Multidimensional Array\n",
        "4. Size Function\n",
        "5. Shape Function\n",
        "6. Dtype Function\n",
        "7. Ndim Function\n",
        "8. Zeros and Ones Function\n",
        "9. Eye Function\n",
        "10. Empty Function\n",
        "11. Random Functions:\n",
        "-----a) np.random.rand\n",
        "-----b) np.random.randint\n",
        "-----c) np.random.randn\n",
        "12. Reshape function\n",
        "13. Linspace Function\n",
        "14. Flatten Function\n",
        "15. Logspace Function\n",
        "16. Copy Function\n",
        "17. arr.max() , arr.min() , arr.sum() functions\n",
        "18. Seed function\n",
        "19. Sorting in numpy array\n",
        "20. Mathematical Operation in Numpy\n",
        "-----a) Addition\n",
        "-----b) Substraction\n",
        "-----c) Multiplication\n",
        "-----d) Division\n",
        "-----e) Matrix Multiplication\n",
        "-----f) Power\n",
        "21. Percentile Function\n",
        "22. Mean, Variance and Standard Deviation\n",
        "23. Filtering an numpy array\n",
        "24. Transposing an array\n",
        "25. Where function\n",
        "26. Merging Arrays\n",
        "-----a) Using Concatenate\n",
        "-----b) Using vstack and hstack\n",
        "27. Splitting Arrays\n",
        "28. Turning Pictures into Numpy arrays"
      ],
      "metadata": {
        "id": "CZhht9uIAbVU"
      }
    },
    {
      "cell_type": "code",
      "execution_count": 3,
      "metadata": {
        "id": "9xzpxfQngKe9"
      },
      "outputs": [],
      "source": [
        "import numpy as np"
      ]
    },
    {
      "cell_type": "markdown",
      "source": [
        "# 1 converting list to array"
      ],
      "metadata": {
        "id": "PMHdsq325kNp"
      }
    },
    {
      "cell_type": "code",
      "source": [
        "lst=[1,2,3,4]"
      ],
      "metadata": {
        "id": "K1-YykTy5Xu9"
      },
      "execution_count": 4,
      "outputs": []
    },
    {
      "cell_type": "code",
      "source": [
        "arr = np.array(lst)\n",
        "arr\n",
        "print(type(lst))\n",
        "print(type(arr))"
      ],
      "metadata": {
        "colab": {
          "base_uri": "https://localhost:8080/"
        },
        "id": "0V30brZE5wFB",
        "outputId": "9f2a2535-7c85-4c68-e839-e44df8dbc120"
      },
      "execution_count": 5,
      "outputs": [
        {
          "output_type": "stream",
          "name": "stdout",
          "text": [
            "<class 'list'>\n",
            "<class 'numpy.ndarray'>\n"
          ]
        }
      ]
    },
    {
      "cell_type": "code",
      "source": [
        "lst = [1,2,3,4]\n",
        "\n",
        "print(type(lst))\n",
        "\n",
        "arr = np.array(lst)\n",
        "\n",
        "print(type(arr))\n",
        "\n",
        "arr = np.array(lst, ndmin = 4)\n",
        "\n",
        "print(arr)"
      ],
      "metadata": {
        "colab": {
          "base_uri": "https://localhost:8080/"
        },
        "id": "nYEpbw6h6s7o",
        "outputId": "3fef8464-2390-43e5-f25a-31d4f46cda51"
      },
      "execution_count": 6,
      "outputs": [
        {
          "output_type": "stream",
          "name": "stdout",
          "text": [
            "<class 'list'>\n",
            "<class 'numpy.ndarray'>\n",
            "[[[[1 2 3 4]]]]\n"
          ]
        }
      ]
    },
    {
      "cell_type": "markdown",
      "source": [
        "# 2. Arrange function"
      ],
      "metadata": {
        "id": "tk7lu3F47c4g"
      }
    },
    {
      "cell_type": "code",
      "source": [
        "np.arange"
      ],
      "metadata": {
        "colab": {
          "base_uri": "https://localhost:8080/"
        },
        "id": "O4dvyzmM7UPo",
        "outputId": "e7e6ae1a-09fc-4f6a-9cc5-c0da96e68398"
      },
      "execution_count": 7,
      "outputs": [
        {
          "output_type": "execute_result",
          "data": {
            "text/plain": [
              "<function numpy.arange>"
            ]
          },
          "metadata": {},
          "execution_count": 7
        }
      ]
    },
    {
      "cell_type": "code",
      "source": [
        "arr = np.arange(1,10,2)\n",
        "arr"
      ],
      "metadata": {
        "colab": {
          "base_uri": "https://localhost:8080/"
        },
        "id": "6A4AdbIm7t9P",
        "outputId": "76e7a707-5280-4c0b-c33f-7b5dd601db95"
      },
      "execution_count": 8,
      "outputs": [
        {
          "output_type": "execute_result",
          "data": {
            "text/plain": [
              "array([1, 3, 5, 7, 9])"
            ]
          },
          "metadata": {},
          "execution_count": 8
        }
      ]
    },
    {
      "cell_type": "markdown",
      "source": [
        "## 3. Multidimensional Array"
      ],
      "metadata": {
        "id": "Qqysk9_V8CPL"
      }
    },
    {
      "cell_type": "code",
      "source": [
        "arr = np.array([[1,2,3],[4,5,6],[7,8,9]])\n",
        "arr"
      ],
      "metadata": {
        "colab": {
          "base_uri": "https://localhost:8080/"
        },
        "id": "TzC4oZFL756w",
        "outputId": "018c50be-664b-4a5a-ee26-5e9802927d88"
      },
      "execution_count": 9,
      "outputs": [
        {
          "output_type": "execute_result",
          "data": {
            "text/plain": [
              "array([[1, 2, 3],\n",
              "       [4, 5, 6],\n",
              "       [7, 8, 9]])"
            ]
          },
          "metadata": {},
          "execution_count": 9
        }
      ]
    },
    {
      "cell_type": "markdown",
      "source": [
        "# 4 Size Function"
      ],
      "metadata": {
        "id": "CFIqwofH-AIY"
      }
    },
    {
      "cell_type": "code",
      "source": [
        "arr = np.array([[1,2,3],[4,5,6],[7,8,9],[1,2,3]])\n",
        "print('Total : ', arr.size)\n",
        "print('Rows  : ', np.size(arr,0))\n",
        "print('Cols  : ', np.size(arr,1))"
      ],
      "metadata": {
        "colab": {
          "base_uri": "https://localhost:8080/"
        },
        "id": "vtMQewC4-Ezy",
        "outputId": "0c1465a7-5d1b-4a87-a08b-7f10ca569d91"
      },
      "execution_count": 10,
      "outputs": [
        {
          "output_type": "stream",
          "name": "stdout",
          "text": [
            "Total :  12\n",
            "Rows  :  4\n",
            "Cols  :  3\n"
          ]
        }
      ]
    },
    {
      "cell_type": "markdown",
      "source": [
        "# 5 Shape Function"
      ],
      "metadata": {
        "id": "_am0enym-0iC"
      }
    },
    {
      "cell_type": "code",
      "source": [
        "arr = np.array([[1,2,3],[4,5,6],[7,8,9],[1,2,3]])\n",
        "print((np.size(arr,0),np.size(arr,1)))\n",
        "\n",
        "print(arr.shape)\n"
      ],
      "metadata": {
        "colab": {
          "base_uri": "https://localhost:8080/"
        },
        "id": "8BAZ4xF0-s34",
        "outputId": "55e6aa66-6ddf-4267-bcef-1b75c8c51e29"
      },
      "execution_count": 11,
      "outputs": [
        {
          "output_type": "stream",
          "name": "stdout",
          "text": [
            "(4, 3)\n",
            "(4, 3)\n"
          ]
        }
      ]
    },
    {
      "cell_type": "markdown",
      "source": [
        "## 6. Dtype Function"
      ],
      "metadata": {
        "id": "01QKygQb_NVh"
      }
    },
    {
      "cell_type": "code",
      "source": [
        "arr1 = np.array([1,2,3,1,2,3])\n",
        "arr2 = np.array([1.2,3.1,2.3])\n",
        "\n",
        "print(arr1.dtype)\n",
        "print(arr2.dtype)"
      ],
      "metadata": {
        "colab": {
          "base_uri": "https://localhost:8080/"
        },
        "id": "IBXwsbvV_QIx",
        "outputId": "a19e86af-c271-479f-a815-0d29bca1dc16"
      },
      "execution_count": 12,
      "outputs": [
        {
          "output_type": "stream",
          "name": "stdout",
          "text": [
            "int64\n",
            "float64\n"
          ]
        }
      ]
    },
    {
      "cell_type": "markdown",
      "source": [
        "## 7. Ndim Function"
      ],
      "metadata": {
        "id": "VveQC6rl_eKF"
      }
    },
    {
      "cell_type": "code",
      "source": [
        "arr1 = np.array([1,2,3,1,2,3])\n",
        "arr2 = np.array([[1,2,3],[1,2,3]])\n",
        "\n",
        "print(arr1.ndim)\n",
        "print(arr2.ndim)\n",
        "\n",
        "arr3 = np.array(arr1, ndmin = 3)\n",
        "print(arr3.ndim)"
      ],
      "metadata": {
        "colab": {
          "base_uri": "https://localhost:8080/"
        },
        "id": "gessUlyT_g8c",
        "outputId": "7e7f1027-2463-4aaa-9a10-f9d7751c4654"
      },
      "execution_count": 13,
      "outputs": [
        {
          "output_type": "stream",
          "name": "stdout",
          "text": [
            "1\n",
            "2\n",
            "3\n"
          ]
        }
      ]
    },
    {
      "cell_type": "markdown",
      "source": [
        "# 8. Zeros  Function"
      ],
      "metadata": {
        "id": "tjHpm35FAfsj"
      }
    },
    {
      "cell_type": "code",
      "source": [
        "arr = np.zeros(shape = (3,5), dtype = int)\n",
        "\n",
        "print(arr)"
      ],
      "metadata": {
        "colab": {
          "base_uri": "https://localhost:8080/"
        },
        "id": "5OBF4Q6wAfZC",
        "outputId": "cf8b4781-519b-4dcc-b80b-cd605bea67f7"
      },
      "execution_count": 14,
      "outputs": [
        {
          "output_type": "stream",
          "name": "stdout",
          "text": [
            "[[0 0 0 0 0]\n",
            " [0 0 0 0 0]\n",
            " [0 0 0 0 0]]\n"
          ]
        }
      ]
    },
    {
      "cell_type": "code",
      "source": [
        "#Ones  Function\n",
        "arr = np.ones(shape = (3,5), dtype = int)\n",
        "\n",
        "print(arr)"
      ],
      "metadata": {
        "colab": {
          "base_uri": "https://localhost:8080/"
        },
        "id": "6DI4L--VBFv2",
        "outputId": "21efe942-3fdd-4660-d559-b48dd4c71f99"
      },
      "execution_count": 15,
      "outputs": [
        {
          "output_type": "stream",
          "name": "stdout",
          "text": [
            "[[1 1 1 1 1]\n",
            " [1 1 1 1 1]\n",
            " [1 1 1 1 1]]\n"
          ]
        }
      ]
    },
    {
      "cell_type": "markdown",
      "source": [
        "# 9. Eye  Function"
      ],
      "metadata": {
        "id": "ALrQnRkbBQfC"
      }
    },
    {
      "cell_type": "code",
      "source": [
        "np.eye(4, dtype = int)"
      ],
      "metadata": {
        "colab": {
          "base_uri": "https://localhost:8080/"
        },
        "id": "PBieZfW6BNeY",
        "outputId": "9b0ec3a4-d7af-45d9-e52e-37eca9dcfef6"
      },
      "execution_count": 16,
      "outputs": [
        {
          "output_type": "execute_result",
          "data": {
            "text/plain": [
              "array([[1, 0, 0, 0],\n",
              "       [0, 1, 0, 0],\n",
              "       [0, 0, 1, 0],\n",
              "       [0, 0, 0, 1]])"
            ]
          },
          "metadata": {},
          "execution_count": 16
        }
      ]
    },
    {
      "cell_type": "markdown",
      "source": [
        "## 10. Empty  Function"
      ],
      "metadata": {
        "id": "-A3eI0FTBa-p"
      }
    },
    {
      "cell_type": "code",
      "source": [
        "np.empty(shape = (5,5))   # in colab it empty function is not working properly"
      ],
      "metadata": {
        "colab": {
          "base_uri": "https://localhost:8080/"
        },
        "id": "G2wx0R8sBqgN",
        "outputId": "665117b2-8d8d-4f6d-a014-f45403ab496c"
      },
      "execution_count": 17,
      "outputs": [
        {
          "output_type": "execute_result",
          "data": {
            "text/plain": [
              "array([[ 4.79238202e-315,  0.00000000e+000,  7.70742408e-322,\n",
              "                     nan,  1.12152902e-321],\n",
              "       [ 5.43230922e-312,  9.66407811e-309,  4.22797986e-307,\n",
              "         3.40063961e-309, -4.53801548e+279],\n",
              "       [ 5.34158331e+228,  1.94100914e-080,  3.90719476e-086,\n",
              "         1.00395021e-089,  7.48269334e+247],\n",
              "       [ 3.63593018e+228,  3.75212097e+199,  8.96365676e+276,\n",
              "         2.88067937e+214,  7.29112217e-304],\n",
              "       [ 3.27831772e-313,  7.71834318e-304,  1.41727993e+241,\n",
              "         1.48219694e-323,  1.21224770e-267]])"
            ]
          },
          "metadata": {},
          "execution_count": 17
        }
      ]
    },
    {
      "cell_type": "markdown",
      "source": [
        "# 11. Random  Functions\n",
        "#   a) np.random.rand\n",
        "#   b) np.random.randint\n",
        "#   c) np.random.randn"
      ],
      "metadata": {
        "id": "Ud5fGy2GCDHt"
      }
    },
    {
      "cell_type": "code",
      "source": [
        "#a) np.random.rand\n",
        "np.random.rand(3,4)"
      ],
      "metadata": {
        "colab": {
          "base_uri": "https://localhost:8080/"
        },
        "id": "9GD7q_BdCCta",
        "outputId": "47c836c7-b7b9-41fa-bb86-16ef00b9be7c"
      },
      "execution_count": 18,
      "outputs": [
        {
          "output_type": "execute_result",
          "data": {
            "text/plain": [
              "array([[0.30361031, 0.06134454, 0.45731488, 0.41470595],\n",
              "       [0.78603627, 0.98437273, 0.97635184, 0.49897224],\n",
              "       [0.19909062, 0.44157626, 0.71929049, 0.03270328]])"
            ]
          },
          "metadata": {},
          "execution_count": 18
        }
      ]
    },
    {
      "cell_type": "markdown",
      "source": [
        "# b) np.random.randint"
      ],
      "metadata": {
        "id": "xkj71YV6Czwx"
      }
    },
    {
      "cell_type": "code",
      "source": [
        "np.random.randint(low = 1, high = 10, size = 10)"
      ],
      "metadata": {
        "colab": {
          "base_uri": "https://localhost:8080/"
        },
        "id": "4vUlJHY5Cssp",
        "outputId": "d45038ba-189b-4a9c-9a3a-e749ecbacd9c"
      },
      "execution_count": 19,
      "outputs": [
        {
          "output_type": "execute_result",
          "data": {
            "text/plain": [
              "array([7, 6, 1, 3, 3, 7, 2, 6, 1, 2])"
            ]
          },
          "metadata": {},
          "execution_count": 19
        }
      ]
    },
    {
      "cell_type": "markdown",
      "source": [
        "# c) np.random.randn"
      ],
      "metadata": {
        "id": "_T0EavsiC5nB"
      }
    },
    {
      "cell_type": "code",
      "source": [
        "import matplotlib.pyplot as plt\n",
        "\n",
        "%matplotlib inline\n",
        "\n",
        "plt.hist(np.random.randn(10000000), bins = 1000);"
      ],
      "metadata": {
        "colab": {
          "base_uri": "https://localhost:8080/",
          "height": 430
        },
        "id": "J19oO57BCwrH",
        "outputId": "4c1d813c-9daa-4f9c-b3b0-ff0e5c47c8d6"
      },
      "execution_count": 20,
      "outputs": [
        {
          "output_type": "display_data",
          "data": {
            "text/plain": [
              "<Figure size 640x480 with 1 Axes>"
            ],
            "image/png": "[encoded data removed]"
          },
          "metadata": {}
        }
      ]
    },
    {
      "cell_type": "markdown",
      "source": [
        "# 12. Reshape function - will not alter the original data but it will change shape of the data"
      ],
      "metadata": {
        "id": "s2pvNRY6EVAw"
      }
    },
    {
      "cell_type": "code",
      "source": [
        "arr = np.random.randint(1,15,(3,4))\n",
        "\n",
        "print(arr.shape)\n",
        "arr = arr.reshape(4,3)\n",
        "print(arr.shape)\n",
        "arr = arr.reshape(6,2)\n",
        "print(arr.shape)"
      ],
      "metadata": {
        "colab": {
          "base_uri": "https://localhost:8080/"
        },
        "id": "aBS9KnqbEe-l",
        "outputId": "cfffb90f-3e89-41ec-ff48-6a07c908b005"
      },
      "execution_count": 21,
      "outputs": [
        {
          "output_type": "stream",
          "name": "stdout",
          "text": [
            "(3, 4)\n",
            "(4, 3)\n",
            "(6, 2)\n"
          ]
        }
      ]
    },
    {
      "cell_type": "markdown",
      "source": [
        "# 13. Linspace  Function"
      ],
      "metadata": {
        "id": "vmT0Jz8iFK9Y"
      }
    },
    {
      "cell_type": "code",
      "source": [
        "np.linspace(1,10,5)"
      ],
      "metadata": {
        "colab": {
          "base_uri": "https://localhost:8080/"
        },
        "id": "NBl-YDRWFKaI",
        "outputId": "b4f2523d-3425-4996-fc7d-5668cdc044d0"
      },
      "execution_count": 22,
      "outputs": [
        {
          "output_type": "execute_result",
          "data": {
            "text/plain": [
              "array([ 1.  ,  3.25,  5.5 ,  7.75, 10.  ])"
            ]
          },
          "metadata": {},
          "execution_count": 22
        }
      ]
    },
    {
      "cell_type": "markdown",
      "source": [
        "## 14. Flatten  Function"
      ],
      "metadata": {
        "id": "-nTEucmHxShv"
      }
    },
    {
      "cell_type": "code",
      "source": [
        "arr = np.random.randint(1,15,(3,4))\n",
        "\n",
        "print(arr.shape)\n",
        "print(arr)\n",
        "print('-'*20)\n",
        "arr = arr.flatten()\n",
        "print(arr.shape)\n",
        "print(arr)"
      ],
      "metadata": {
        "colab": {
          "base_uri": "https://localhost:8080/"
        },
        "id": "GIn-RE92xZw5",
        "outputId": "b1e2c744-5a00-4ca2-c833-0dc2dc5b6adf"
      },
      "execution_count": 23,
      "outputs": [
        {
          "output_type": "stream",
          "name": "stdout",
          "text": [
            "(3, 4)\n",
            "[[ 1  8  6 14]\n",
            " [ 8 12 12  8]\n",
            " [14  5  1  4]]\n",
            "--------------------\n",
            "(12,)\n",
            "[ 1  8  6 14  8 12 12  8 14  5  1  4]\n"
          ]
        }
      ]
    },
    {
      "cell_type": "markdown",
      "source": [
        "## 15. Logspace  Function"
      ],
      "metadata": {
        "id": "67em89T9x3MY"
      }
    },
    {
      "cell_type": "code",
      "source": [
        "print(np.logspace(2,4,10))\n",
        "print('-'*20)\n",
        "print(np.logspace(2,4,10, base = 2))"
      ],
      "metadata": {
        "colab": {
          "base_uri": "https://localhost:8080/"
        },
        "id": "8CNARqHTx5Fy",
        "outputId": "b1a2d16c-8b33-45e6-92e8-1ec1ae46fa44"
      },
      "execution_count": 24,
      "outputs": [
        {
          "output_type": "stream",
          "name": "stdout",
          "text": [
            "[  100.           166.81005372   278.25594022   464.15888336\n",
            "   774.26368268  1291.54966501  2154.43469003  3593.8136638\n",
            "  5994.84250319 10000.        ]\n",
            "--------------------\n",
            "[ 4.          4.66611616  5.44316     6.34960421  7.4069977   8.64047791\n",
            " 10.0793684  11.75787594 13.71590373 16.        ]\n"
          ]
        }
      ]
    },
    {
      "cell_type": "markdown",
      "source": [
        "## 16. Copy function"
      ],
      "metadata": {
        "id": "UUb-Mxs9yU_a"
      }
    },
    {
      "cell_type": "code",
      "source": [
        "arr1 = np.random.randint(1,15,10)\n",
        "\n",
        "arr2 = arr1\n",
        "\n",
        "print(arr1, id(arr1))\n",
        "print(arr2, id(arr2))\n",
        "\n",
        "print('-'*50)\n",
        "\n",
        "arr1 = np.random.randint(1,15,10)\n",
        "arr2 = np.copy(arr1)\n",
        "\n",
        "print(arr1, id(arr1))\n",
        "print(arr2, id(arr2))"
      ],
      "metadata": {
        "colab": {
          "base_uri": "https://localhost:8080/"
        },
        "id": "VTI-1VMfyaln",
        "outputId": "bd0f166c-74e4-43af-84e5-81b414d8fec5"
      },
      "execution_count": 25,
      "outputs": [
        {
          "output_type": "stream",
          "name": "stdout",
          "text": [
            "[ 4  7 13 14  4 12 10  2  7  7] 138189972810384\n",
            "[ 4  7 13 14  4 12 10  2  7  7] 138189972810384\n",
            "--------------------------------------------------\n",
            "[ 9 11  7 14  7  6  4  5  5  7] 138189972814992\n",
            "[ 9 11  7 14  7  6  4  5  5  7] 138189027208112\n"
          ]
        }
      ]
    },
    {
      "cell_type": "markdown",
      "source": [
        "## 17. arr.max() ,  arr.min() ,     arr.sum() functions"
      ],
      "metadata": {
        "id": "ALi3bU8Sy_nk"
      }
    },
    {
      "cell_type": "code",
      "source": [
        "arr = np.random.randint(1,30,(3,5))\n",
        "\n",
        "print('-'*20)\n",
        "print(arr)\n",
        "print('-'*20)\n",
        "\n",
        "print('MAX : ', arr.max())\n",
        "print('MIN : ', arr.min())\n",
        "print('SUM : ', arr.sum())"
      ],
      "metadata": {
        "colab": {
          "base_uri": "https://localhost:8080/"
        },
        "id": "eL7U-4gkzBi3",
        "outputId": "2f12ef89-98ba-46d7-d3cd-ea14c023cb1d"
      },
      "execution_count": 26,
      "outputs": [
        {
          "output_type": "stream",
          "name": "stdout",
          "text": [
            "--------------------\n",
            "[[11  7 28  3 23]\n",
            " [12 14 20  2  2]\n",
            " [23 27 24 23 17]]\n",
            "--------------------\n",
            "MAX :  28\n",
            "MIN :  2\n",
            "SUM :  236\n"
          ]
        }
      ]
    },
    {
      "cell_type": "code",
      "source": [
        "arr = np.random.randint(1,30,(3,5))\n",
        "\n",
        "print('-'*20)\n",
        "print(arr)\n",
        "print('-'*20)"
      ],
      "metadata": {
        "colab": {
          "base_uri": "https://localhost:8080/"
        },
        "id": "diLrB7f8za7h",
        "outputId": "c45c634d-1ff4-4079-dd00-3518de4f02ee"
      },
      "execution_count": 27,
      "outputs": [
        {
          "output_type": "stream",
          "name": "stdout",
          "text": [
            "--------------------\n",
            "[[11 12  7  1 29]\n",
            " [ 2 10 15 13  8]\n",
            " [ 3  7 12 14  3]]\n",
            "--------------------\n"
          ]
        }
      ]
    },
    {
      "cell_type": "markdown",
      "source": [
        "axis=0 is for the column\n",
        "axis=1 is for the row"
      ],
      "metadata": {
        "id": "Z1bfaWcVzYbk"
      }
    },
    {
      "cell_type": "code",
      "source": [
        "print('MAX : ', arr.max(axis = 0))\n",
        "print('MIN : ', arr.min(axis = 0))\n",
        "print('SUM : ', arr.sum(axis = 0))"
      ],
      "metadata": {
        "colab": {
          "base_uri": "https://localhost:8080/"
        },
        "id": "RV56MF9tzblH",
        "outputId": "b1b74bfa-7917-400c-c544-6323f1f3c63c"
      },
      "execution_count": 28,
      "outputs": [
        {
          "output_type": "stream",
          "name": "stdout",
          "text": [
            "MAX :  [11 12 15 14 29]\n",
            "MIN :  [2 7 7 1 3]\n",
            "SUM :  [16 29 34 28 40]\n"
          ]
        }
      ]
    },
    {
      "cell_type": "code",
      "source": [
        "print('MAX : ', arr.max(axis = 1))\n",
        "print('MIN : ', arr.min(axis = 1))\n",
        "print('SUM : ', arr.sum(axis = 1))\n"
      ],
      "metadata": {
        "colab": {
          "base_uri": "https://localhost:8080/"
        },
        "id": "XXFinHv9zoQ2",
        "outputId": "adfe95d0-6290-49d4-c57d-7be4ec200d30"
      },
      "execution_count": 29,
      "outputs": [
        {
          "output_type": "stream",
          "name": "stdout",
          "text": [
            "MAX :  [29 15 14]\n",
            "MIN :  [1 2 3]\n",
            "SUM :  [60 48 39]\n"
          ]
        }
      ]
    },
    {
      "cell_type": "markdown",
      "source": [
        "## 18. Seed Function"
      ],
      "metadata": {
        "id": "PYo01rJkzx2f"
      }
    },
    {
      "cell_type": "code",
      "source": [
        "np.random.seed(3)\n",
        "\n",
        "arr = np.random.randint(1,10,(3,5))\n",
        "\n",
        "arr"
      ],
      "metadata": {
        "colab": {
          "base_uri": "https://localhost:8080/"
        },
        "id": "Itq0HLLAzws7",
        "outputId": "356906c7-a637-4e3b-87e4-8c608e20a523"
      },
      "execution_count": 30,
      "outputs": [
        {
          "output_type": "execute_result",
          "data": {
            "text/plain": [
              "array([[9, 4, 9, 9, 1],\n",
              "       [6, 4, 6, 8, 7],\n",
              "       [1, 5, 8, 9, 2]])"
            ]
          },
          "metadata": {},
          "execution_count": 30
        }
      ]
    },
    {
      "cell_type": "markdown",
      "source": [
        "## 19. Sorting Function"
      ],
      "metadata": {
        "id": "PM2XZi1A0use"
      }
    },
    {
      "cell_type": "code",
      "source": [
        "np.random.seed(3)\n",
        "arr = np.random.randint(1,10,(3,5))\n",
        "\n",
        "\n",
        "print('-'*15)\n",
        "print(arr)\n",
        "print('-'*15)\n",
        "print(np.sort(arr, axis = 1))\n",
        "print('-'*15)\n",
        "print(np.sort(arr, axis = 0))\n",
        "print('-'*15)\n",
        "\n",
        "arr = np.reshape(np.sort(arr.flatten()), arr.shape)\n",
        "print(arr)\n",
        "print('-'*15)"
      ],
      "metadata": {
        "colab": {
          "base_uri": "https://localhost:8080/"
        },
        "id": "f0E7DF2M0wcK",
        "outputId": "16088683-9d00-4de7-f57a-55366e77aa12"
      },
      "execution_count": 31,
      "outputs": [
        {
          "output_type": "stream",
          "name": "stdout",
          "text": [
            "---------------\n",
            "[[9 4 9 9 1]\n",
            " [6 4 6 8 7]\n",
            " [1 5 8 9 2]]\n",
            "---------------\n",
            "[[1 4 9 9 9]\n",
            " [4 6 6 7 8]\n",
            " [1 2 5 8 9]]\n",
            "---------------\n",
            "[[1 4 6 8 1]\n",
            " [6 4 8 9 2]\n",
            " [9 5 9 9 7]]\n",
            "---------------\n",
            "[[1 1 2 4 4]\n",
            " [5 6 6 7 8]\n",
            " [8 9 9 9 9]]\n",
            "---------------\n"
          ]
        }
      ]
    },
    {
      "cell_type": "code",
      "source": [
        "print(np.sort(arr, axis = 0, kind = 'mergesort'))"
      ],
      "metadata": {
        "colab": {
          "base_uri": "https://localhost:8080/"
        },
        "id": "qiOxP2_b1Kio",
        "outputId": "fe85d87c-04f9-44d6-b539-26c26c88817c"
      },
      "execution_count": 32,
      "outputs": [
        {
          "output_type": "stream",
          "name": "stdout",
          "text": [
            "[[1 1 2 4 4]\n",
            " [5 6 6 7 8]\n",
            " [8 9 9 9 9]]\n"
          ]
        }
      ]
    },
    {
      "cell_type": "markdown",
      "source": [
        "## 20. Mathematical Operations"
      ],
      "metadata": {
        "id": "vUMrlxk51HWe"
      }
    },
    {
      "cell_type": "code",
      "source": [
        "#a) Addition\n",
        "np.random.seed(3)\n",
        "\n",
        "arr = np.random.randint(1,10,(3,5))\n",
        "\n",
        "print('-' * 15)\n",
        "print(arr)\n",
        "print('-' * 15)\n",
        "print(arr + 1)\n",
        "print('-' * 15)"
      ],
      "metadata": {
        "colab": {
          "base_uri": "https://localhost:8080/"
        },
        "id": "-sFXgcnh1PFx",
        "outputId": "e2e900ab-1f12-4a86-f5eb-8da2f4a4dafd"
      },
      "execution_count": 33,
      "outputs": [
        {
          "output_type": "stream",
          "name": "stdout",
          "text": [
            "---------------\n",
            "[[9 4 9 9 1]\n",
            " [6 4 6 8 7]\n",
            " [1 5 8 9 2]]\n",
            "---------------\n",
            "[[10  5 10 10  2]\n",
            " [ 7  5  7  9  8]\n",
            " [ 2  6  9 10  3]]\n",
            "---------------\n"
          ]
        }
      ]
    },
    {
      "cell_type": "markdown",
      "source": [
        "## b) Substraction"
      ],
      "metadata": {
        "id": "3EbvDy_H2QW-"
      }
    },
    {
      "cell_type": "code",
      "source": [
        "print('-' * 15)\n",
        "print(arr)\n",
        "print('-' * 15)\n",
        "print(arr - 1)\n",
        "print('-' * 15)"
      ],
      "metadata": {
        "colab": {
          "base_uri": "https://localhost:8080/"
        },
        "id": "tBBp4_fj2NQ_",
        "outputId": "b2d78e63-a6fb-4dc8-e3a9-8fa5c74def9b"
      },
      "execution_count": 34,
      "outputs": [
        {
          "output_type": "stream",
          "name": "stdout",
          "text": [
            "---------------\n",
            "[[9 4 9 9 1]\n",
            " [6 4 6 8 7]\n",
            " [1 5 8 9 2]]\n",
            "---------------\n",
            "[[8 3 8 8 0]\n",
            " [5 3 5 7 6]\n",
            " [0 4 7 8 1]]\n",
            "---------------\n"
          ]
        }
      ]
    },
    {
      "cell_type": "markdown",
      "source": [
        "## c) Multiplication"
      ],
      "metadata": {
        "id": "JnY_xuGk2S-e"
      }
    },
    {
      "cell_type": "code",
      "source": [
        "print('-' * 15)\n",
        "print(arr)\n",
        "print('-' * 15)\n",
        "print(arr * 2)\n",
        "print('-' * 15)"
      ],
      "metadata": {
        "colab": {
          "base_uri": "https://localhost:8080/"
        },
        "id": "mQY09nvl2Zxb",
        "outputId": "f83cc7e9-590c-4c93-9771-1de790b631fb"
      },
      "execution_count": 35,
      "outputs": [
        {
          "output_type": "stream",
          "name": "stdout",
          "text": [
            "---------------\n",
            "[[9 4 9 9 1]\n",
            " [6 4 6 8 7]\n",
            " [1 5 8 9 2]]\n",
            "---------------\n",
            "[[18  8 18 18  2]\n",
            " [12  8 12 16 14]\n",
            " [ 2 10 16 18  4]]\n",
            "---------------\n"
          ]
        }
      ]
    },
    {
      "cell_type": "code",
      "source": [
        "#d) Division\n",
        "print('-' * 15)\n",
        "print(arr)\n",
        "print('-' * 15)\n",
        "print(arr / 2)\n",
        "print('-' * 15)"
      ],
      "metadata": {
        "colab": {
          "base_uri": "https://localhost:8080/"
        },
        "id": "-dmaCnT12dRv",
        "outputId": "9957b5ab-57f6-4b20-b3d8-d1f9a0561ada"
      },
      "execution_count": 36,
      "outputs": [
        {
          "output_type": "stream",
          "name": "stdout",
          "text": [
            "---------------\n",
            "[[9 4 9 9 1]\n",
            " [6 4 6 8 7]\n",
            " [1 5 8 9 2]]\n",
            "---------------\n",
            "[[4.5 2.  4.5 4.5 0.5]\n",
            " [3.  2.  3.  4.  3.5]\n",
            " [0.5 2.5 4.  4.5 1. ]]\n",
            "---------------\n"
          ]
        }
      ]
    },
    {
      "cell_type": "markdown",
      "source": [
        "## e) Matrix Multiplication"
      ],
      "metadata": {
        "id": "VzxtOASJ2h8X"
      }
    },
    {
      "cell_type": "code",
      "source": [
        "np.random.seed(3)\n",
        "\n",
        "arr1 = np.random.randint(1,10,(2,2))\n",
        "arr2 = np.random.randint(1,10,(2,2))\n",
        "\n",
        "print(arr1.dot(arr2))\n",
        "print('-'*12)\n",
        "print(arr1.dot(arr2))"
      ],
      "metadata": {
        "colab": {
          "base_uri": "https://localhost:8080/"
        },
        "id": "dDaNohLf2j3a",
        "outputId": "2475c30d-7384-4db5-9aa0-8e15b9af01fc"
      },
      "execution_count": 38,
      "outputs": [
        {
          "output_type": "stream",
          "name": "stdout",
          "text": [
            "[[ 25  78]\n",
            " [ 45 108]]\n",
            "------------\n",
            "[[ 25  78]\n",
            " [ 45 108]]\n"
          ]
        }
      ]
    },
    {
      "cell_type": "code",
      "source": [
        "#f) Power\n",
        "print(arr)\n",
        "print('-'*15)\n",
        "print(arr ** 2)"
      ],
      "metadata": {
        "colab": {
          "base_uri": "https://localhost:8080/"
        },
        "id": "RgZr2h153Egt",
        "outputId": "ef035abd-5d90-42a9-db73-525ea97e1042"
      },
      "execution_count": 40,
      "outputs": [
        {
          "output_type": "stream",
          "name": "stdout",
          "text": [
            "[[9 4 9 9 1]\n",
            " [6 4 6 8 7]\n",
            " [1 5 8 9 2]]\n",
            "---------------\n",
            "[[81 16 81 81  1]\n",
            " [36 16 36 64 49]\n",
            " [ 1 25 64 81  4]]\n"
          ]
        }
      ]
    },
    {
      "cell_type": "markdown",
      "source": [
        "## 21. Percentile Function"
      ],
      "metadata": {
        "id": "B_yXsVi13Rc2"
      }
    },
    {
      "cell_type": "code",
      "source": [
        "np.random.seed(3)\n",
        "\n",
        "arr = np.random.randint(1,10,10)\n",
        "print(arr)\n",
        "\n",
        "arr = np.sort(arr)\n",
        "print(arr)\n",
        "\n",
        "print(np.percentile(arr, 50))"
      ],
      "metadata": {
        "colab": {
          "base_uri": "https://localhost:8080/"
        },
        "id": "vJaLyvAl3aQk",
        "outputId": "411cbc86-fb0b-4f53-d0ed-4edfdff57be9"
      },
      "execution_count": 41,
      "outputs": [
        {
          "output_type": "stream",
          "name": "stdout",
          "text": [
            "[9 4 9 9 1 6 4 6 8 7]\n",
            "[1 4 4 6 6 7 8 9 9 9]\n",
            "6.5\n"
          ]
        }
      ]
    },
    {
      "cell_type": "markdown",
      "source": [
        "## 22. Mean, Variance and Standard deviation"
      ],
      "metadata": {
        "id": "qWg6Wqjk3e7W"
      }
    },
    {
      "cell_type": "code",
      "source": [
        "arr = np.random.randint(1,10,10)\n",
        "\n",
        "print(arr)\n",
        "print(arr.mean())\n",
        "print(arr.var())\n",
        "print(arr.std())"
      ],
      "metadata": {
        "colab": {
          "base_uri": "https://localhost:8080/"
        },
        "id": "9mtbuLYI3guw",
        "outputId": "dbd56487-907b-4b11-ffa8-779feedbe316"
      },
      "execution_count": 42,
      "outputs": [
        {
          "output_type": "stream",
          "name": "stdout",
          "text": [
            "[1 5 8 9 2 7 3 3 2 4]\n",
            "4.4\n",
            "6.839999999999999\n",
            "2.6153393661244038\n"
          ]
        }
      ]
    },
    {
      "cell_type": "markdown",
      "source": [
        "## 23. Filtering an numpy array"
      ],
      "metadata": {
        "id": "qBirpOaA3wM7"
      }
    },
    {
      "cell_type": "code",
      "source": [
        "arr = np.arange(1,10)\n",
        "\n",
        "print(arr)\n",
        "print(arr < 5)\n",
        "print(arr[arr < 5])"
      ],
      "metadata": {
        "colab": {
          "base_uri": "https://localhost:8080/"
        },
        "id": "c4VlV9rc3zwp",
        "outputId": "83b4c338-f4d5-46d0-9a52-0d953570de00"
      },
      "execution_count": 43,
      "outputs": [
        {
          "output_type": "stream",
          "name": "stdout",
          "text": [
            "[1 2 3 4 5 6 7 8 9]\n",
            "[ True  True  True  True False False False False False]\n",
            "[1 2 3 4]\n"
          ]
        }
      ]
    },
    {
      "cell_type": "code",
      "source": [
        "arr2 = arr[arr < 5]        #We can store this into a new variable if we need this filtered array\n",
        "print(arr2)"
      ],
      "metadata": {
        "colab": {
          "base_uri": "https://localhost:8080/"
        },
        "id": "mYEhED894qOr",
        "outputId": "5e1ca615-36bd-4897-bc8c-98826028a2a5"
      },
      "execution_count": 44,
      "outputs": [
        {
          "output_type": "stream",
          "name": "stdout",
          "text": [
            "[1 2 3 4]\n"
          ]
        }
      ]
    },
    {
      "cell_type": "code",
      "source": [
        "arr[arr > 5] = 10\n",
        "\n",
        "arr                                             #If we want to replace all the values above 5 with 10 we can even do that"
      ],
      "metadata": {
        "colab": {
          "base_uri": "https://localhost:8080/"
        },
        "id": "y0U84ldZ4t3_",
        "outputId": "863efcd4-0092-4681-edda-e678bef98aa8"
      },
      "execution_count": 46,
      "outputs": [
        {
          "output_type": "execute_result",
          "data": {
            "text/plain": [
              "array([ 1,  2,  3,  4,  5, 10, 10, 10, 10])"
            ]
          },
          "metadata": {},
          "execution_count": 46
        }
      ]
    },
    {
      "cell_type": "markdown",
      "source": [
        "## 24 Transposing an array"
      ],
      "metadata": {
        "id": "McVsp3_T45XO"
      }
    },
    {
      "cell_type": "code",
      "source": [
        "arr = np.random.randint(1,20,(3,5))\n",
        "\n",
        "print(arr)\n",
        "print('-'*20)\n",
        "print(arr.T)"
      ],
      "metadata": {
        "colab": {
          "base_uri": "https://localhost:8080/"
        },
        "id": "jK9mTwwg43FB",
        "outputId": "e7ae3ac3-448f-493b-db70-430ac8d65c44"
      },
      "execution_count": 47,
      "outputs": [
        {
          "output_type": "stream",
          "name": "stdout",
          "text": [
            "[[ 6  9 15  2 11]\n",
            " [ 8 12  2 16 17]\n",
            " [ 6 18 15  1  1]]\n",
            "--------------------\n",
            "[[ 6  8  6]\n",
            " [ 9 12 18]\n",
            " [15  2 15]\n",
            " [ 2 16  1]\n",
            " [11 17  1]]\n"
          ]
        }
      ]
    },
    {
      "cell_type": "markdown",
      "source": [
        "## 25. Where function"
      ],
      "metadata": {
        "id": "RDQ66vsf5O4k"
      }
    },
    {
      "cell_type": "code",
      "source": [
        "arr = np.random.randint(1,100,10)\n",
        "arr"
      ],
      "metadata": {
        "colab": {
          "base_uri": "https://localhost:8080/"
        },
        "id": "dq3_X9xU5Qlm",
        "outputId": "3b0c37f1-21a9-4541-f1e8-02cf2c562eba"
      },
      "execution_count": 48,
      "outputs": [
        {
          "output_type": "execute_result",
          "data": {
            "text/plain": [
              "array([19, 64, 38, 57, 57, 72, 38, 47, 34,  2])"
            ]
          },
          "metadata": {},
          "execution_count": 48
        }
      ]
    },
    {
      "cell_type": "code",
      "source": [
        "print(arr)\n",
        "\n",
        "print(np.where(arr%2==0, 'even',arr))\n",
        "print(np.where(arr%2!=0, 'odd',arr))\n",
        "\n",
        "arr1 = np.where(arr%2==0, 'even',arr)\n",
        "arr1 = np.where(arr%2!=0, 'odd',arr1)\n",
        "\n",
        "print(arr1)"
      ],
      "metadata": {
        "colab": {
          "base_uri": "https://localhost:8080/"
        },
        "id": "9Jgq7P3n5VM1",
        "outputId": "dcf0e00c-12ed-476d-9cb0-c60e925d4098"
      },
      "execution_count": 49,
      "outputs": [
        {
          "output_type": "stream",
          "name": "stdout",
          "text": [
            "[19 64 38 57 57 72 38 47 34  2]\n",
            "['19' 'even' 'even' '57' '57' 'even' 'even' '47' 'even' 'even']\n",
            "['odd' '64' '38' 'odd' 'odd' '72' '38' 'odd' '34' '2']\n",
            "['odd' 'even' 'even' 'odd' 'odd' 'even' 'even' 'odd' 'even' 'even']\n"
          ]
        }
      ]
    },
    {
      "cell_type": "markdown",
      "source": [
        "## 26. Merging Arrays"
      ],
      "metadata": {
        "id": "W24gtiQK59pR"
      }
    },
    {
      "cell_type": "code",
      "source": [
        "#a) Concatenate\n",
        "arr1 = np.random.randint(1,10,(2,4))\n",
        "arr2 = np.random.randint(1,10,(2,4))\n",
        "\n",
        "print(arr1)\n",
        "print('-'*15)\n",
        "print(arr2)\n",
        "\n",
        "print('-'*30)\n",
        "print(np.concatenate((arr1,arr2), axis = 0))\n",
        "print('-'*30)\n",
        "print(np.concatenate((arr1,arr2), axis = 1))"
      ],
      "metadata": {
        "colab": {
          "base_uri": "https://localhost:8080/"
        },
        "id": "z__2Mk-V5_jh",
        "outputId": "4291e7d1-ad02-40f0-8396-93327715ae3c"
      },
      "execution_count": 50,
      "outputs": [
        {
          "output_type": "stream",
          "name": "stdout",
          "text": [
            "[[6 6 8 5]\n",
            " [4 1 1 1]]\n",
            "---------------\n",
            "[[1 3 3 8]\n",
            " [1 6 1 2]]\n",
            "------------------------------\n",
            "[[6 6 8 5]\n",
            " [4 1 1 1]\n",
            " [1 3 3 8]\n",
            " [1 6 1 2]]\n",
            "------------------------------\n",
            "[[6 6 8 5 1 3 3 8]\n",
            " [4 1 1 1 1 6 1 2]]\n"
          ]
        }
      ]
    },
    {
      "cell_type": "code",
      "source": [
        "#b) Vstack and Hstack\n",
        "arr1 = np.random.randint(1,10,(2,4))\n",
        "arr2 = np.random.randint(1,10,(2,4))\n",
        "\n",
        "print(arr1)\n",
        "print('-'*15)\n",
        "print(arr2)\n",
        "print('-'*15)\n",
        "\n",
        "print(np.hstack((arr1,arr2)))"
      ],
      "metadata": {
        "colab": {
          "base_uri": "https://localhost:8080/"
        },
        "id": "pgXS0uHX6Tz3",
        "outputId": "f71eac9c-670a-491f-9582-27e1bb38476e"
      },
      "execution_count": 51,
      "outputs": [
        {
          "output_type": "stream",
          "name": "stdout",
          "text": [
            "[[5 2 3 3]\n",
            " [5 9 1 7]]\n",
            "---------------\n",
            "[[1 5 2 6]\n",
            " [2 9 9 8]]\n",
            "---------------\n",
            "[[5 2 3 3 1 5 2 6]\n",
            " [5 9 1 7 2 9 9 8]]\n"
          ]
        }
      ]
    },
    {
      "cell_type": "code",
      "source": [
        "print(arr1)\n",
        "print('-'*15)\n",
        "print(arr2)\n",
        "print('-'*15)\n",
        "\n",
        "print(np.vstack((arr1,arr2)))"
      ],
      "metadata": {
        "colab": {
          "base_uri": "https://localhost:8080/"
        },
        "id": "QnBdKYt16beA",
        "outputId": "9b50b49e-3753-4e18-f320-f15f7c3aca8c"
      },
      "execution_count": 52,
      "outputs": [
        {
          "output_type": "stream",
          "name": "stdout",
          "text": [
            "[[5 2 3 3]\n",
            " [5 9 1 7]]\n",
            "---------------\n",
            "[[1 5 2 6]\n",
            " [2 9 9 8]]\n",
            "---------------\n",
            "[[5 2 3 3]\n",
            " [5 9 1 7]\n",
            " [1 5 2 6]\n",
            " [2 9 9 8]]\n"
          ]
        }
      ]
    },
    {
      "cell_type": "markdown",
      "source": [
        "## 27. Splitting Arrays"
      ],
      "metadata": {
        "id": "Fyq6_wVr7B2s"
      }
    },
    {
      "cell_type": "code",
      "source": [
        "arr = np.random.randint(1,10,(4,4))\n",
        "\n",
        "print(arr)"
      ],
      "metadata": {
        "colab": {
          "base_uri": "https://localhost:8080/"
        },
        "id": "RnRxCCTi7BY7",
        "outputId": "c5ed1370-1ac5-4498-bf70-d8b22940c1b1"
      },
      "execution_count": 53,
      "outputs": [
        {
          "output_type": "stream",
          "name": "stdout",
          "text": [
            "[[1 1 2 8]\n",
            " [9 8 5 1]\n",
            " [1 5 4 1]\n",
            " [9 3 8 3]]\n"
          ]
        }
      ]
    },
    {
      "cell_type": "code",
      "source": [
        "np.vsplit(arr, 2)"
      ],
      "metadata": {
        "colab": {
          "base_uri": "https://localhost:8080/"
        },
        "id": "3zfp549w7J-b",
        "outputId": "aeae2398-6a55-4a4f-97bf-76c4f89efcdf"
      },
      "execution_count": 54,
      "outputs": [
        {
          "output_type": "execute_result",
          "data": {
            "text/plain": [
              "[array([[1, 1, 2, 8],\n",
              "        [9, 8, 5, 1]]),\n",
              " array([[1, 5, 4, 1],\n",
              "        [9, 3, 8, 3]])]"
            ]
          },
          "metadata": {},
          "execution_count": 54
        }
      ]
    },
    {
      "cell_type": "code",
      "source": [
        "np.hsplit(arr, 2)"
      ],
      "metadata": {
        "colab": {
          "base_uri": "https://localhost:8080/"
        },
        "id": "gvpPpMv87MNc",
        "outputId": "6756dcb9-dd2a-4ccd-ffd8-84d32c8a68e7"
      },
      "execution_count": 55,
      "outputs": [
        {
          "output_type": "execute_result",
          "data": {
            "text/plain": [
              "[array([[1, 1],\n",
              "        [9, 8],\n",
              "        [1, 5],\n",
              "        [9, 3]]),\n",
              " array([[2, 8],\n",
              "        [5, 1],\n",
              "        [4, 1],\n",
              "        [8, 3]])]"
            ]
          },
          "metadata": {},
          "execution_count": 55
        }
      ]
    },
    {
      "cell_type": "markdown",
      "source": [
        "## Turning Pics into Numpy arrays"
      ],
      "metadata": {
        "id": "jTudQ_487h9N"
      }
    },
    {
      "cell_type": "code",
      "source": [
        "from matplotlib.image import imread  #height,width,channel\n",
        "\n",
        "img = imread('GFGP.png')\n",
        "\n",
        "img.shape"
      ],
      "metadata": {
        "colab": {
          "base_uri": "https://localhost:8080/"
        },
        "id": "SHgKG3mD7j2z",
        "outputId": "a4189882-0072-4e6d-ffd2-6c7d1671f274"
      },
      "execution_count": 58,
      "outputs": [
        {
          "output_type": "execute_result",
          "data": {
            "text/plain": [
              "(607, 1000, 3)"
            ]
          },
          "metadata": {},
          "execution_count": 58
        }
      ]
    },
    {
      "cell_type": "code",
      "source": [],
      "metadata": {
        "id": "8dxMtIY18QF0"
      },
      "execution_count": null,
      "outputs": []
    }
  ]
}